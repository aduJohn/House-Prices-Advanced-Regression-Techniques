{
 "metadata": {
  "language_info": {
   "codemirror_mode": {
    "name": "ipython",
    "version": 3
   },
   "file_extension": ".py",
   "mimetype": "text/x-python",
   "name": "python",
   "nbconvert_exporter": "python",
   "pygments_lexer": "ipython3",
   "version": "3.8.6-final"
  },
  "orig_nbformat": 2,
  "kernelspec": {
   "name": "python3",
   "display_name": "Python 3"
  }
 },
 "nbformat": 4,
 "nbformat_minor": 2,
 "cells": [
  {
   "cell_type": "code",
   "execution_count": 1,
   "metadata": {},
   "outputs": [],
   "source": [
    "import pandas as pd\n",
    "import numpy as np\n",
    "from sklearn.kernel_ridge import KernelRidge\n",
    "from sklearn.linear_model import ElasticNet, Lasso,  BayesianRidge, LassoLarsIC\n",
    "from sklearn.pipeline import make_pipeline\n",
    "from libraries.DataUtils import DataUtils\n",
    "from sklearn.preprocessing import OneHotEncoder\n",
    "from sklearn.preprocessing import MinMaxScaler\n",
    "from sklearn.model_selection import train_test_split\n",
    "from sklearn.model_selection import RandomizedSearchCV\n",
    "from sklearn.model_selection import GridSearchCV\n",
    "from sklearn.preprocessing import RobustScaler\n",
    "\n",
    "from datetime import datetime"
   ]
  },
  {
   "cell_type": "code",
   "execution_count": 2,
   "metadata": {},
   "outputs": [
    {
     "output_type": "execute_result",
     "data": {
      "text/plain": [
       "    MSSubClass MSZoning  LotFrontage    LotArea Street Alley LotShape  \\\n",
       "Id                                                                      \n",
       "1           60       RL     5.831328  19.212182   Pave   NaN      Reg   \n",
       "2           20       RL     6.221214  19.712205   Pave   NaN      Reg   \n",
       "3           60       RL     5.914940  20.347241   Pave   NaN      IR1   \n",
       "4           70       RL     5.684507  19.691553   Pave   NaN      IR1   \n",
       "5           60       RL     6.314735  21.325160   Pave   NaN      IR1   \n",
       "\n",
       "   LandContour Utilities LotConfig  ... YrSold SaleType SaleCondition  \\\n",
       "Id                                  ...                                 \n",
       "1          Lvl    AllPub    Inside  ...   2008       WD        Normal   \n",
       "2          Lvl    AllPub       FR2  ...   2007       WD        Normal   \n",
       "3          Lvl    AllPub    Inside  ...   2008       WD        Normal   \n",
       "4          Lvl    AllPub    Corner  ...   2006       WD       Abnorml   \n",
       "5          Lvl    AllPub       FR2  ...   2008       WD        Normal   \n",
       "\n",
       "   SalePrice HouseAge RemodAddAge  GarageAge  RealSalePrice  SalePriceLog1p  \\\n",
       "Id                                                                            \n",
       "1     208500        5           5          5  195403.106769       12.247699   \n",
       "2     181500       31          31         31  177073.170732       12.109016   \n",
       "3     223500        7           6          7  209460.884234       12.317171   \n",
       "4     140000       91          36          8  140000.000000       11.849405   \n",
       "5     250000        8           8          8  234296.291090       12.429220   \n",
       "\n",
       "    RealSalePriceLog1p  \n",
       "Id                      \n",
       "1            12.182825  \n",
       "2            12.084324  \n",
       "3            12.252297  \n",
       "4            11.849405  \n",
       "5            12.364346  \n",
       "\n",
       "[5 rows x 86 columns]"
      ],
      "text/html": "<div>\n<style scoped>\n    .dataframe tbody tr th:only-of-type {\n        vertical-align: middle;\n    }\n\n    .dataframe tbody tr th {\n        vertical-align: top;\n    }\n\n    .dataframe thead th {\n        text-align: right;\n    }\n</style>\n<table border=\"1\" class=\"dataframe\">\n  <thead>\n    <tr style=\"text-align: right;\">\n      <th></th>\n      <th>MSSubClass</th>\n      <th>MSZoning</th>\n      <th>LotFrontage</th>\n      <th>LotArea</th>\n      <th>Street</th>\n      <th>Alley</th>\n      <th>LotShape</th>\n      <th>LandContour</th>\n      <th>Utilities</th>\n      <th>LotConfig</th>\n      <th>...</th>\n      <th>YrSold</th>\n      <th>SaleType</th>\n      <th>SaleCondition</th>\n      <th>SalePrice</th>\n      <th>HouseAge</th>\n      <th>RemodAddAge</th>\n      <th>GarageAge</th>\n      <th>RealSalePrice</th>\n      <th>SalePriceLog1p</th>\n      <th>RealSalePriceLog1p</th>\n    </tr>\n    <tr>\n      <th>Id</th>\n      <th></th>\n      <th></th>\n      <th></th>\n      <th></th>\n      <th></th>\n      <th></th>\n      <th></th>\n      <th></th>\n      <th></th>\n      <th></th>\n      <th></th>\n      <th></th>\n      <th></th>\n      <th></th>\n      <th></th>\n      <th></th>\n      <th></th>\n      <th></th>\n      <th></th>\n      <th></th>\n      <th></th>\n    </tr>\n  </thead>\n  <tbody>\n    <tr>\n      <th>1</th>\n      <td>60</td>\n      <td>RL</td>\n      <td>5.831328</td>\n      <td>19.212182</td>\n      <td>Pave</td>\n      <td>NaN</td>\n      <td>Reg</td>\n      <td>Lvl</td>\n      <td>AllPub</td>\n      <td>Inside</td>\n      <td>...</td>\n      <td>2008</td>\n      <td>WD</td>\n      <td>Normal</td>\n      <td>208500</td>\n      <td>5</td>\n      <td>5</td>\n      <td>5</td>\n      <td>195403.106769</td>\n      <td>12.247699</td>\n      <td>12.182825</td>\n    </tr>\n    <tr>\n      <th>2</th>\n      <td>20</td>\n      <td>RL</td>\n      <td>6.221214</td>\n      <td>19.712205</td>\n      <td>Pave</td>\n      <td>NaN</td>\n      <td>Reg</td>\n      <td>Lvl</td>\n      <td>AllPub</td>\n      <td>FR2</td>\n      <td>...</td>\n      <td>2007</td>\n      <td>WD</td>\n      <td>Normal</td>\n      <td>181500</td>\n      <td>31</td>\n      <td>31</td>\n      <td>31</td>\n      <td>177073.170732</td>\n      <td>12.109016</td>\n      <td>12.084324</td>\n    </tr>\n    <tr>\n      <th>3</th>\n      <td>60</td>\n      <td>RL</td>\n      <td>5.914940</td>\n      <td>20.347241</td>\n      <td>Pave</td>\n      <td>NaN</td>\n      <td>IR1</td>\n      <td>Lvl</td>\n      <td>AllPub</td>\n      <td>Inside</td>\n      <td>...</td>\n      <td>2008</td>\n      <td>WD</td>\n      <td>Normal</td>\n      <td>223500</td>\n      <td>7</td>\n      <td>6</td>\n      <td>7</td>\n      <td>209460.884234</td>\n      <td>12.317171</td>\n      <td>12.252297</td>\n    </tr>\n    <tr>\n      <th>4</th>\n      <td>70</td>\n      <td>RL</td>\n      <td>5.684507</td>\n      <td>19.691553</td>\n      <td>Pave</td>\n      <td>NaN</td>\n      <td>IR1</td>\n      <td>Lvl</td>\n      <td>AllPub</td>\n      <td>Corner</td>\n      <td>...</td>\n      <td>2006</td>\n      <td>WD</td>\n      <td>Abnorml</td>\n      <td>140000</td>\n      <td>91</td>\n      <td>36</td>\n      <td>8</td>\n      <td>140000.000000</td>\n      <td>11.849405</td>\n      <td>11.849405</td>\n    </tr>\n    <tr>\n      <th>5</th>\n      <td>60</td>\n      <td>RL</td>\n      <td>6.314735</td>\n      <td>21.325160</td>\n      <td>Pave</td>\n      <td>NaN</td>\n      <td>IR1</td>\n      <td>Lvl</td>\n      <td>AllPub</td>\n      <td>FR2</td>\n      <td>...</td>\n      <td>2008</td>\n      <td>WD</td>\n      <td>Normal</td>\n      <td>250000</td>\n      <td>8</td>\n      <td>8</td>\n      <td>8</td>\n      <td>234296.291090</td>\n      <td>12.429220</td>\n      <td>12.364346</td>\n    </tr>\n  </tbody>\n</table>\n<p>5 rows × 86 columns</p>\n</div>"
     },
     "metadata": {},
     "execution_count": 2
    }
   ],
   "source": [
    "train = pd.read_csv(\"./data/input/train_cleaned.csv\")\n",
    "train = train.set_index('Id')\n",
    "train.head(5)"
   ]
  },
  {
   "cell_type": "code",
   "execution_count": 3,
   "metadata": {},
   "outputs": [
    {
     "output_type": "execute_result",
     "data": {
      "text/plain": [
       "      MSSubClass MSZoning  LotFrontage    LotArea Street Alley LotShape  \\\n",
       "Id                                                                        \n",
       "1461          20       RH         80.0  20.479373   Pave   NaN      Reg   \n",
       "1462          20       RL         81.0  21.327220   Pave   NaN      IR1   \n",
       "1463          60       RL         74.0  21.196905   Pave   NaN      IR1   \n",
       "1464          60       RL         78.0  19.865444   Pave   NaN      IR1   \n",
       "1465         120       RL         43.0  17.257255   Pave   NaN      IR1   \n",
       "\n",
       "     LandContour Utilities LotConfig  ...  Fence MiscFeature    MiscVal  \\\n",
       "Id                                    ...                                 \n",
       "1461         Lvl    AllPub    Inside  ...  MnPrv         NaN   0.000000   \n",
       "1462         Lvl    NoSewr    Corner  ...    NaN        Gar2  20.777526   \n",
       "1463         Lvl    AllPub    Inside  ...  MnPrv         NaN   0.000000   \n",
       "1464         Lvl    NoSewr    Inside  ...    NaN         NaN   0.000000   \n",
       "1465         HLS    AllPub    Inside  ...    NaN         NaN   0.000000   \n",
       "\n",
       "     MoSold YrSold SaleType  SaleCondition  HouseAge  RemodAddAge  GarageAge  \n",
       "Id                                                                            \n",
       "1461      6   2010       WD         Normal        49           49         49  \n",
       "1462      6   2010       WD         Normal        52           52         52  \n",
       "1463      3   2010       WD         Normal        13           12         13  \n",
       "1464      6   2010       WD         Normal        12           12         12  \n",
       "1465      1   2010       WD         Normal        18           18         18  \n",
       "\n",
       "[5 rows x 82 columns]"
      ],
      "text/html": "<div>\n<style scoped>\n    .dataframe tbody tr th:only-of-type {\n        vertical-align: middle;\n    }\n\n    .dataframe tbody tr th {\n        vertical-align: top;\n    }\n\n    .dataframe thead th {\n        text-align: right;\n    }\n</style>\n<table border=\"1\" class=\"dataframe\">\n  <thead>\n    <tr style=\"text-align: right;\">\n      <th></th>\n      <th>MSSubClass</th>\n      <th>MSZoning</th>\n      <th>LotFrontage</th>\n      <th>LotArea</th>\n      <th>Street</th>\n      <th>Alley</th>\n      <th>LotShape</th>\n      <th>LandContour</th>\n      <th>Utilities</th>\n      <th>LotConfig</th>\n      <th>...</th>\n      <th>Fence</th>\n      <th>MiscFeature</th>\n      <th>MiscVal</th>\n      <th>MoSold</th>\n      <th>YrSold</th>\n      <th>SaleType</th>\n      <th>SaleCondition</th>\n      <th>HouseAge</th>\n      <th>RemodAddAge</th>\n      <th>GarageAge</th>\n    </tr>\n    <tr>\n      <th>Id</th>\n      <th></th>\n      <th></th>\n      <th></th>\n      <th></th>\n      <th></th>\n      <th></th>\n      <th></th>\n      <th></th>\n      <th></th>\n      <th></th>\n      <th></th>\n      <th></th>\n      <th></th>\n      <th></th>\n      <th></th>\n      <th></th>\n      <th></th>\n      <th></th>\n      <th></th>\n      <th></th>\n      <th></th>\n    </tr>\n  </thead>\n  <tbody>\n    <tr>\n      <th>1461</th>\n      <td>20</td>\n      <td>RH</td>\n      <td>80.0</td>\n      <td>20.479373</td>\n      <td>Pave</td>\n      <td>NaN</td>\n      <td>Reg</td>\n      <td>Lvl</td>\n      <td>AllPub</td>\n      <td>Inside</td>\n      <td>...</td>\n      <td>MnPrv</td>\n      <td>NaN</td>\n      <td>0.000000</td>\n      <td>6</td>\n      <td>2010</td>\n      <td>WD</td>\n      <td>Normal</td>\n      <td>49</td>\n      <td>49</td>\n      <td>49</td>\n    </tr>\n    <tr>\n      <th>1462</th>\n      <td>20</td>\n      <td>RL</td>\n      <td>81.0</td>\n      <td>21.327220</td>\n      <td>Pave</td>\n      <td>NaN</td>\n      <td>IR1</td>\n      <td>Lvl</td>\n      <td>NoSewr</td>\n      <td>Corner</td>\n      <td>...</td>\n      <td>NaN</td>\n      <td>Gar2</td>\n      <td>20.777526</td>\n      <td>6</td>\n      <td>2010</td>\n      <td>WD</td>\n      <td>Normal</td>\n      <td>52</td>\n      <td>52</td>\n      <td>52</td>\n    </tr>\n    <tr>\n      <th>1463</th>\n      <td>60</td>\n      <td>RL</td>\n      <td>74.0</td>\n      <td>21.196905</td>\n      <td>Pave</td>\n      <td>NaN</td>\n      <td>IR1</td>\n      <td>Lvl</td>\n      <td>AllPub</td>\n      <td>Inside</td>\n      <td>...</td>\n      <td>MnPrv</td>\n      <td>NaN</td>\n      <td>0.000000</td>\n      <td>3</td>\n      <td>2010</td>\n      <td>WD</td>\n      <td>Normal</td>\n      <td>13</td>\n      <td>12</td>\n      <td>13</td>\n    </tr>\n    <tr>\n      <th>1464</th>\n      <td>60</td>\n      <td>RL</td>\n      <td>78.0</td>\n      <td>19.865444</td>\n      <td>Pave</td>\n      <td>NaN</td>\n      <td>IR1</td>\n      <td>Lvl</td>\n      <td>NoSewr</td>\n      <td>Inside</td>\n      <td>...</td>\n      <td>NaN</td>\n      <td>NaN</td>\n      <td>0.000000</td>\n      <td>6</td>\n      <td>2010</td>\n      <td>WD</td>\n      <td>Normal</td>\n      <td>12</td>\n      <td>12</td>\n      <td>12</td>\n    </tr>\n    <tr>\n      <th>1465</th>\n      <td>120</td>\n      <td>RL</td>\n      <td>43.0</td>\n      <td>17.257255</td>\n      <td>Pave</td>\n      <td>NaN</td>\n      <td>IR1</td>\n      <td>HLS</td>\n      <td>AllPub</td>\n      <td>Inside</td>\n      <td>...</td>\n      <td>NaN</td>\n      <td>NaN</td>\n      <td>0.000000</td>\n      <td>1</td>\n      <td>2010</td>\n      <td>WD</td>\n      <td>Normal</td>\n      <td>18</td>\n      <td>18</td>\n      <td>18</td>\n    </tr>\n  </tbody>\n</table>\n<p>5 rows × 82 columns</p>\n</div>"
     },
     "metadata": {},
     "execution_count": 3
    }
   ],
   "source": [
    "test = pd.read_csv(\"./data/input/test_cleaned.csv\")\n",
    "test = test.set_index('Id')\n",
    "test.head(5)"
   ]
  },
  {
   "cell_type": "code",
   "execution_count": 4,
   "metadata": {},
   "outputs": [
    {
     "output_type": "stream",
     "name": "stdout",
     "text": [
      "There are 86 columns and 15 (17.44%) of them have null values.\nAlley - 1367 values are null - 93.76%\nMasVnrType - 871 values are null - 59.74%\nBsmtQual - 37 values are null - 2.54%\nBsmtCond - 37 values are null - 2.54%\nBsmtExposure - 38 values are null - 2.61%\nBsmtFinType1 - 37 values are null - 2.54%\nBsmtFinType2 - 38 values are null - 2.61%\nFireplaceQu - 690 values are null - 47.33%\nGarageType - 81 values are null - 5.56%\nGarageFinish - 81 values are null - 5.56%\nGarageQual - 81 values are null - 5.56%\nGarageCond - 81 values are null - 5.56%\nPoolQC - 1452 values are null - 99.59%\nFence - 1178 values are null - 80.80%\nMiscFeature - 1404 values are null - 96.30%\nThere are 82 columns and 15 (18.29%) of them have null values.\nAlley - 1352 values are null - 92.67%\nMasVnrType - 894 values are null - 61.27%\nBsmtQual - 44 values are null - 3.02%\nBsmtCond - 45 values are null - 3.08%\nBsmtExposure - 44 values are null - 3.02%\nBsmtFinType1 - 42 values are null - 2.88%\nBsmtFinType2 - 42 values are null - 2.88%\nFireplaceQu - 730 values are null - 50.03%\nGarageType - 76 values are null - 5.21%\nGarageFinish - 78 values are null - 5.35%\nGarageQual - 78 values are null - 5.35%\nGarageCond - 78 values are null - 5.35%\nPoolQC - 1456 values are null - 99.79%\nFence - 1169 values are null - 80.12%\nMiscFeature - 1408 values are null - 96.50%\n"
     ]
    }
   ],
   "source": [
    "DataUtils.columns_nan_description(train)\n",
    "DataUtils.columns_nan_description(test)"
   ]
  },
  {
   "cell_type": "code",
   "execution_count": 5,
   "metadata": {},
   "outputs": [
    {
     "output_type": "stream",
     "name": "stdout",
     "text": [
      "There are 86 columns and 0 (0.00%) of them have null values.\nThere are 82 columns and 0 (0.00%) of them have null values.\n"
     ]
    }
   ],
   "source": [
    "train.fillna(\"NA\",inplace=True)\n",
    "test.fillna(\"NA\",inplace=True)\n",
    "DataUtils.columns_nan_description(train)\n",
    "DataUtils.columns_nan_description(test)"
   ]
  },
  {
   "cell_type": "code",
   "execution_count": 6,
   "metadata": {},
   "outputs": [
    {
     "output_type": "execute_result",
     "data": {
      "text/plain": [
       "    MSSubClass MSZoning  LotFrontage    LotArea Street Alley LotShape  \\\n",
       "Id                                                                      \n",
       "1           60       RL     5.831328  19.212182   Pave    NA      Reg   \n",
       "2           20       RL     6.221214  19.712205   Pave    NA      Reg   \n",
       "3           60       RL     5.914940  20.347241   Pave    NA      IR1   \n",
       "4           70       RL     5.684507  19.691553   Pave    NA      IR1   \n",
       "5           60       RL     6.314735  21.325160   Pave    NA      IR1   \n",
       "\n",
       "   LandContour Utilities LotConfig  ... Fence MiscFeature MiscVal MoSold  \\\n",
       "Id                                  ...                                    \n",
       "1          Lvl    AllPub    Inside  ...    NA          NA     0.0      2   \n",
       "2          Lvl    AllPub       FR2  ...    NA          NA     0.0      5   \n",
       "3          Lvl    AllPub    Inside  ...    NA          NA     0.0      9   \n",
       "4          Lvl    AllPub    Corner  ...    NA          NA     0.0      2   \n",
       "5          Lvl    AllPub       FR2  ...    NA          NA     0.0     12   \n",
       "\n",
       "   YrSold SaleType  SaleCondition  HouseAge  RemodAddAge  GarageAge  \n",
       "Id                                                                   \n",
       "1    2008       WD         Normal         5            5          5  \n",
       "2    2007       WD         Normal        31           31         31  \n",
       "3    2008       WD         Normal         7            6          7  \n",
       "4    2006       WD        Abnorml        91           36          8  \n",
       "5    2008       WD         Normal         8            8          8  \n",
       "\n",
       "[5 rows x 82 columns]"
      ],
      "text/html": "<div>\n<style scoped>\n    .dataframe tbody tr th:only-of-type {\n        vertical-align: middle;\n    }\n\n    .dataframe tbody tr th {\n        vertical-align: top;\n    }\n\n    .dataframe thead th {\n        text-align: right;\n    }\n</style>\n<table border=\"1\" class=\"dataframe\">\n  <thead>\n    <tr style=\"text-align: right;\">\n      <th></th>\n      <th>MSSubClass</th>\n      <th>MSZoning</th>\n      <th>LotFrontage</th>\n      <th>LotArea</th>\n      <th>Street</th>\n      <th>Alley</th>\n      <th>LotShape</th>\n      <th>LandContour</th>\n      <th>Utilities</th>\n      <th>LotConfig</th>\n      <th>...</th>\n      <th>Fence</th>\n      <th>MiscFeature</th>\n      <th>MiscVal</th>\n      <th>MoSold</th>\n      <th>YrSold</th>\n      <th>SaleType</th>\n      <th>SaleCondition</th>\n      <th>HouseAge</th>\n      <th>RemodAddAge</th>\n      <th>GarageAge</th>\n    </tr>\n    <tr>\n      <th>Id</th>\n      <th></th>\n      <th></th>\n      <th></th>\n      <th></th>\n      <th></th>\n      <th></th>\n      <th></th>\n      <th></th>\n      <th></th>\n      <th></th>\n      <th></th>\n      <th></th>\n      <th></th>\n      <th></th>\n      <th></th>\n      <th></th>\n      <th></th>\n      <th></th>\n      <th></th>\n      <th></th>\n      <th></th>\n    </tr>\n  </thead>\n  <tbody>\n    <tr>\n      <th>1</th>\n      <td>60</td>\n      <td>RL</td>\n      <td>5.831328</td>\n      <td>19.212182</td>\n      <td>Pave</td>\n      <td>NA</td>\n      <td>Reg</td>\n      <td>Lvl</td>\n      <td>AllPub</td>\n      <td>Inside</td>\n      <td>...</td>\n      <td>NA</td>\n      <td>NA</td>\n      <td>0.0</td>\n      <td>2</td>\n      <td>2008</td>\n      <td>WD</td>\n      <td>Normal</td>\n      <td>5</td>\n      <td>5</td>\n      <td>5</td>\n    </tr>\n    <tr>\n      <th>2</th>\n      <td>20</td>\n      <td>RL</td>\n      <td>6.221214</td>\n      <td>19.712205</td>\n      <td>Pave</td>\n      <td>NA</td>\n      <td>Reg</td>\n      <td>Lvl</td>\n      <td>AllPub</td>\n      <td>FR2</td>\n      <td>...</td>\n      <td>NA</td>\n      <td>NA</td>\n      <td>0.0</td>\n      <td>5</td>\n      <td>2007</td>\n      <td>WD</td>\n      <td>Normal</td>\n      <td>31</td>\n      <td>31</td>\n      <td>31</td>\n    </tr>\n    <tr>\n      <th>3</th>\n      <td>60</td>\n      <td>RL</td>\n      <td>5.914940</td>\n      <td>20.347241</td>\n      <td>Pave</td>\n      <td>NA</td>\n      <td>IR1</td>\n      <td>Lvl</td>\n      <td>AllPub</td>\n      <td>Inside</td>\n      <td>...</td>\n      <td>NA</td>\n      <td>NA</td>\n      <td>0.0</td>\n      <td>9</td>\n      <td>2008</td>\n      <td>WD</td>\n      <td>Normal</td>\n      <td>7</td>\n      <td>6</td>\n      <td>7</td>\n    </tr>\n    <tr>\n      <th>4</th>\n      <td>70</td>\n      <td>RL</td>\n      <td>5.684507</td>\n      <td>19.691553</td>\n      <td>Pave</td>\n      <td>NA</td>\n      <td>IR1</td>\n      <td>Lvl</td>\n      <td>AllPub</td>\n      <td>Corner</td>\n      <td>...</td>\n      <td>NA</td>\n      <td>NA</td>\n      <td>0.0</td>\n      <td>2</td>\n      <td>2006</td>\n      <td>WD</td>\n      <td>Abnorml</td>\n      <td>91</td>\n      <td>36</td>\n      <td>8</td>\n    </tr>\n    <tr>\n      <th>5</th>\n      <td>60</td>\n      <td>RL</td>\n      <td>6.314735</td>\n      <td>21.325160</td>\n      <td>Pave</td>\n      <td>NA</td>\n      <td>IR1</td>\n      <td>Lvl</td>\n      <td>AllPub</td>\n      <td>FR2</td>\n      <td>...</td>\n      <td>NA</td>\n      <td>NA</td>\n      <td>0.0</td>\n      <td>12</td>\n      <td>2008</td>\n      <td>WD</td>\n      <td>Normal</td>\n      <td>8</td>\n      <td>8</td>\n      <td>8</td>\n    </tr>\n  </tbody>\n</table>\n<p>5 rows × 82 columns</p>\n</div>"
     },
     "metadata": {},
     "execution_count": 6
    }
   ],
   "source": [
    "train_sale_price = train['SalePrice']\n",
    "train_real_sale_price = train['RealSalePrice']\n",
    "train_sale_price_log1p= train['SalePriceLog1p']\n",
    "train_real_sale_price_log1p= train['RealSalePriceLog1p']\n",
    "train = train.drop(['SalePrice','SalePriceLog1p','RealSalePrice','RealSalePriceLog1p'],axis=1)\n",
    "train_test = pd.concat([train,test])\n",
    "train_test.head()"
   ]
  },
  {
   "cell_type": "code",
   "execution_count": 7,
   "metadata": {},
   "outputs": [
    {
     "output_type": "stream",
     "name": "stdout",
     "text": [
      "Total columns in data set 82\nTotal columns count: 82\n"
     ]
    }
   ],
   "source": [
    "categorical_columns = ['MSSubClass','MSZoning','Street','Alley','LotShape','LandContour',\n",
    "                        'LotConfig','LandSlope','Neighborhood','Condition1','Condition2',\n",
    "                        'BldgType','HouseStyle','RoofStyle','RoofMatl','Exterior1st','Exterior2nd',\n",
    "                        'MasVnrType','Foundation','Heating','CentralAir','Electrical','Functional',\n",
    "                        'GarageType','GarageFinish','PavedDrive','Fence','MiscFeature','SaleType',\n",
    "                        'SaleCondition']\n",
    "\n",
    "label_columns = ['Utilities','OverallQual','OverallCond','ExterQual','ExterCond','BsmtQual','BsmtExposure',\n",
    "                'BsmtCond','BsmtFinType1','BsmtFinType2','HeatingQC','GarageQual','KitchenQual','FireplaceQu',\n",
    "                'GarageCond','PoolQC']\n",
    "\n",
    "numerical_columns = ['LotArea','YearBuilt','YearRemodAdd','MasVnrArea','BsmtFinSF1','BsmtFinSF2','BsmtUnfSF',\n",
    "                        'TotalBsmtSF','1stFlrSF','2ndFlrSF','LowQualFinSF','GrLivArea','BsmtFullBath','BsmtHalfBath',\n",
    "                        'FullBath','HalfBath','BedroomAbvGr','KitchenAbvGr','TotRmsAbvGrd','Fireplaces','GarageYrBlt',\n",
    "                        'GarageCars','GarageArea','WoodDeckSF','OpenPorchSF','EnclosedPorch','3SsnPorch','ScreenPorch',\n",
    "                        'PoolArea','MiscVal','MoSold','YrSold','LotFrontage']\n",
    "                        \n",
    "numerical_columns.extend(['HouseAge','RemodAddAge','GarageAge'])\n",
    "\n",
    "print(f'Total columns in data set {train_test.shape[1]}')\n",
    "print(f'Total columns count: {len(categorical_columns)+len(label_columns)+len(numerical_columns)}')"
   ]
  },
  {
   "cell_type": "code",
   "execution_count": 8,
   "metadata": {},
   "outputs": [
    {
     "output_type": "execute_result",
     "data": {
      "text/plain": [
       "    MSSubClass_30  MSSubClass_40  MSSubClass_45  MSSubClass_50  MSSubClass_60  \\\n",
       "Id                                                                              \n",
       "1             0.0            0.0            0.0            0.0            1.0   \n",
       "2             0.0            0.0            0.0            0.0            0.0   \n",
       "3             0.0            0.0            0.0            0.0            1.0   \n",
       "4             0.0            0.0            0.0            0.0            0.0   \n",
       "5             0.0            0.0            0.0            0.0            1.0   \n",
       "\n",
       "    MSSubClass_70  MSSubClass_75  MSSubClass_80  MSSubClass_85  MSSubClass_90  \\\n",
       "Id                                                                              \n",
       "1             0.0            0.0            0.0            0.0            0.0   \n",
       "2             0.0            0.0            0.0            0.0            0.0   \n",
       "3             0.0            0.0            0.0            0.0            0.0   \n",
       "4             1.0            0.0            0.0            0.0            0.0   \n",
       "5             0.0            0.0            0.0            0.0            0.0   \n",
       "\n",
       "    ...  SaleType_ConLI  SaleType_ConLw  SaleType_New  SaleType_Oth  \\\n",
       "Id  ...                                                               \n",
       "1   ...             0.0             0.0           0.0           0.0   \n",
       "2   ...             0.0             0.0           0.0           0.0   \n",
       "3   ...             0.0             0.0           0.0           0.0   \n",
       "4   ...             0.0             0.0           0.0           0.0   \n",
       "5   ...             0.0             0.0           0.0           0.0   \n",
       "\n",
       "    SaleType_WD  SaleCondition_AdjLand  SaleCondition_Alloca  \\\n",
       "Id                                                             \n",
       "1           1.0                    0.0                   0.0   \n",
       "2           1.0                    0.0                   0.0   \n",
       "3           1.0                    0.0                   0.0   \n",
       "4           1.0                    0.0                   0.0   \n",
       "5           1.0                    0.0                   0.0   \n",
       "\n",
       "    SaleCondition_Family  SaleCondition_Normal  SaleCondition_Partial  \n",
       "Id                                                                     \n",
       "1                    0.0                   1.0                    0.0  \n",
       "2                    0.0                   1.0                    0.0  \n",
       "3                    0.0                   1.0                    0.0  \n",
       "4                    0.0                   0.0                    0.0  \n",
       "5                    0.0                   1.0                    0.0  \n",
       "\n",
       "[5 rows x 183 columns]"
      ],
      "text/html": "<div>\n<style scoped>\n    .dataframe tbody tr th:only-of-type {\n        vertical-align: middle;\n    }\n\n    .dataframe tbody tr th {\n        vertical-align: top;\n    }\n\n    .dataframe thead th {\n        text-align: right;\n    }\n</style>\n<table border=\"1\" class=\"dataframe\">\n  <thead>\n    <tr style=\"text-align: right;\">\n      <th></th>\n      <th>MSSubClass_30</th>\n      <th>MSSubClass_40</th>\n      <th>MSSubClass_45</th>\n      <th>MSSubClass_50</th>\n      <th>MSSubClass_60</th>\n      <th>MSSubClass_70</th>\n      <th>MSSubClass_75</th>\n      <th>MSSubClass_80</th>\n      <th>MSSubClass_85</th>\n      <th>MSSubClass_90</th>\n      <th>...</th>\n      <th>SaleType_ConLI</th>\n      <th>SaleType_ConLw</th>\n      <th>SaleType_New</th>\n      <th>SaleType_Oth</th>\n      <th>SaleType_WD</th>\n      <th>SaleCondition_AdjLand</th>\n      <th>SaleCondition_Alloca</th>\n      <th>SaleCondition_Family</th>\n      <th>SaleCondition_Normal</th>\n      <th>SaleCondition_Partial</th>\n    </tr>\n    <tr>\n      <th>Id</th>\n      <th></th>\n      <th></th>\n      <th></th>\n      <th></th>\n      <th></th>\n      <th></th>\n      <th></th>\n      <th></th>\n      <th></th>\n      <th></th>\n      <th></th>\n      <th></th>\n      <th></th>\n      <th></th>\n      <th></th>\n      <th></th>\n      <th></th>\n      <th></th>\n      <th></th>\n      <th></th>\n      <th></th>\n    </tr>\n  </thead>\n  <tbody>\n    <tr>\n      <th>1</th>\n      <td>0.0</td>\n      <td>0.0</td>\n      <td>0.0</td>\n      <td>0.0</td>\n      <td>1.0</td>\n      <td>0.0</td>\n      <td>0.0</td>\n      <td>0.0</td>\n      <td>0.0</td>\n      <td>0.0</td>\n      <td>...</td>\n      <td>0.0</td>\n      <td>0.0</td>\n      <td>0.0</td>\n      <td>0.0</td>\n      <td>1.0</td>\n      <td>0.0</td>\n      <td>0.0</td>\n      <td>0.0</td>\n      <td>1.0</td>\n      <td>0.0</td>\n    </tr>\n    <tr>\n      <th>2</th>\n      <td>0.0</td>\n      <td>0.0</td>\n      <td>0.0</td>\n      <td>0.0</td>\n      <td>0.0</td>\n      <td>0.0</td>\n      <td>0.0</td>\n      <td>0.0</td>\n      <td>0.0</td>\n      <td>0.0</td>\n      <td>...</td>\n      <td>0.0</td>\n      <td>0.0</td>\n      <td>0.0</td>\n      <td>0.0</td>\n      <td>1.0</td>\n      <td>0.0</td>\n      <td>0.0</td>\n      <td>0.0</td>\n      <td>1.0</td>\n      <td>0.0</td>\n    </tr>\n    <tr>\n      <th>3</th>\n      <td>0.0</td>\n      <td>0.0</td>\n      <td>0.0</td>\n      <td>0.0</td>\n      <td>1.0</td>\n      <td>0.0</td>\n      <td>0.0</td>\n      <td>0.0</td>\n      <td>0.0</td>\n      <td>0.0</td>\n      <td>...</td>\n      <td>0.0</td>\n      <td>0.0</td>\n      <td>0.0</td>\n      <td>0.0</td>\n      <td>1.0</td>\n      <td>0.0</td>\n      <td>0.0</td>\n      <td>0.0</td>\n      <td>1.0</td>\n      <td>0.0</td>\n    </tr>\n    <tr>\n      <th>4</th>\n      <td>0.0</td>\n      <td>0.0</td>\n      <td>0.0</td>\n      <td>0.0</td>\n      <td>0.0</td>\n      <td>1.0</td>\n      <td>0.0</td>\n      <td>0.0</td>\n      <td>0.0</td>\n      <td>0.0</td>\n      <td>...</td>\n      <td>0.0</td>\n      <td>0.0</td>\n      <td>0.0</td>\n      <td>0.0</td>\n      <td>1.0</td>\n      <td>0.0</td>\n      <td>0.0</td>\n      <td>0.0</td>\n      <td>0.0</td>\n      <td>0.0</td>\n    </tr>\n    <tr>\n      <th>5</th>\n      <td>0.0</td>\n      <td>0.0</td>\n      <td>0.0</td>\n      <td>0.0</td>\n      <td>1.0</td>\n      <td>0.0</td>\n      <td>0.0</td>\n      <td>0.0</td>\n      <td>0.0</td>\n      <td>0.0</td>\n      <td>...</td>\n      <td>0.0</td>\n      <td>0.0</td>\n      <td>0.0</td>\n      <td>0.0</td>\n      <td>1.0</td>\n      <td>0.0</td>\n      <td>0.0</td>\n      <td>0.0</td>\n      <td>1.0</td>\n      <td>0.0</td>\n    </tr>\n  </tbody>\n</table>\n<p>5 rows × 183 columns</p>\n</div>"
     },
     "metadata": {},
     "execution_count": 8
    }
   ],
   "source": [
    "#Categorical columns encoder\n",
    "#handle_unknown='ignore'\n",
    "OH_encoder = OneHotEncoder(drop='first', sparse=False)\n",
    "OH_cols = pd.DataFrame(OH_encoder.fit_transform(train_test[categorical_columns]),columns = OH_encoder.get_feature_names(categorical_columns))\n",
    "OH_cols.index = train_test.index\n",
    "OH_cols.head(5)"
   ]
  },
  {
   "cell_type": "code",
   "execution_count": 9,
   "metadata": {},
   "outputs": [
    {
     "output_type": "execute_result",
     "data": {
      "text/plain": [
       "    Utilities  OverallQual  OverallCond  ExterQual  ExterCond  BsmtQual  \\\n",
       "Id                                                                        \n",
       "1         1.0     0.666667        0.500   0.666667        0.5       0.8   \n",
       "2         1.0     0.555556        0.875   0.333333        0.5       0.8   \n",
       "3         1.0     0.666667        0.500   0.666667        0.5       0.8   \n",
       "4         1.0     0.666667        0.500   0.333333        0.5       0.6   \n",
       "5         1.0     0.777778        0.500   0.666667        0.5       0.8   \n",
       "\n",
       "    BsmtExposure  BsmtCond  BsmtFinType1  BsmtFinType2  HeatingQC  GarageQual  \\\n",
       "Id                                                                              \n",
       "1           0.25      0.75      1.000000      0.166667       1.00         0.6   \n",
       "2           1.00      0.75      0.833333      0.166667       1.00         0.6   \n",
       "3           0.50      0.75      1.000000      0.166667       1.00         0.6   \n",
       "4           0.25      1.00      0.833333      0.166667       0.75         0.6   \n",
       "5           0.75      0.75      1.000000      0.166667       1.00         0.6   \n",
       "\n",
       "    KitchenQual  FireplaceQu  GarageCond  PoolQC  \n",
       "Id                                                \n",
       "1      0.666667          0.0         0.6     0.0  \n",
       "2      0.333333          0.6         0.6     0.0  \n",
       "3      0.666667          0.6         0.6     0.0  \n",
       "4      0.666667          0.8         0.6     0.0  \n",
       "5      0.666667          0.6         0.6     0.0  "
      ],
      "text/html": "<div>\n<style scoped>\n    .dataframe tbody tr th:only-of-type {\n        vertical-align: middle;\n    }\n\n    .dataframe tbody tr th {\n        vertical-align: top;\n    }\n\n    .dataframe thead th {\n        text-align: right;\n    }\n</style>\n<table border=\"1\" class=\"dataframe\">\n  <thead>\n    <tr style=\"text-align: right;\">\n      <th></th>\n      <th>Utilities</th>\n      <th>OverallQual</th>\n      <th>OverallCond</th>\n      <th>ExterQual</th>\n      <th>ExterCond</th>\n      <th>BsmtQual</th>\n      <th>BsmtExposure</th>\n      <th>BsmtCond</th>\n      <th>BsmtFinType1</th>\n      <th>BsmtFinType2</th>\n      <th>HeatingQC</th>\n      <th>GarageQual</th>\n      <th>KitchenQual</th>\n      <th>FireplaceQu</th>\n      <th>GarageCond</th>\n      <th>PoolQC</th>\n    </tr>\n    <tr>\n      <th>Id</th>\n      <th></th>\n      <th></th>\n      <th></th>\n      <th></th>\n      <th></th>\n      <th></th>\n      <th></th>\n      <th></th>\n      <th></th>\n      <th></th>\n      <th></th>\n      <th></th>\n      <th></th>\n      <th></th>\n      <th></th>\n      <th></th>\n    </tr>\n  </thead>\n  <tbody>\n    <tr>\n      <th>1</th>\n      <td>1.0</td>\n      <td>0.666667</td>\n      <td>0.500</td>\n      <td>0.666667</td>\n      <td>0.5</td>\n      <td>0.8</td>\n      <td>0.25</td>\n      <td>0.75</td>\n      <td>1.000000</td>\n      <td>0.166667</td>\n      <td>1.00</td>\n      <td>0.6</td>\n      <td>0.666667</td>\n      <td>0.0</td>\n      <td>0.6</td>\n      <td>0.0</td>\n    </tr>\n    <tr>\n      <th>2</th>\n      <td>1.0</td>\n      <td>0.555556</td>\n      <td>0.875</td>\n      <td>0.333333</td>\n      <td>0.5</td>\n      <td>0.8</td>\n      <td>1.00</td>\n      <td>0.75</td>\n      <td>0.833333</td>\n      <td>0.166667</td>\n      <td>1.00</td>\n      <td>0.6</td>\n      <td>0.333333</td>\n      <td>0.6</td>\n      <td>0.6</td>\n      <td>0.0</td>\n    </tr>\n    <tr>\n      <th>3</th>\n      <td>1.0</td>\n      <td>0.666667</td>\n      <td>0.500</td>\n      <td>0.666667</td>\n      <td>0.5</td>\n      <td>0.8</td>\n      <td>0.50</td>\n      <td>0.75</td>\n      <td>1.000000</td>\n      <td>0.166667</td>\n      <td>1.00</td>\n      <td>0.6</td>\n      <td>0.666667</td>\n      <td>0.6</td>\n      <td>0.6</td>\n      <td>0.0</td>\n    </tr>\n    <tr>\n      <th>4</th>\n      <td>1.0</td>\n      <td>0.666667</td>\n      <td>0.500</td>\n      <td>0.333333</td>\n      <td>0.5</td>\n      <td>0.6</td>\n      <td>0.25</td>\n      <td>1.00</td>\n      <td>0.833333</td>\n      <td>0.166667</td>\n      <td>0.75</td>\n      <td>0.6</td>\n      <td>0.666667</td>\n      <td>0.8</td>\n      <td>0.6</td>\n      <td>0.0</td>\n    </tr>\n    <tr>\n      <th>5</th>\n      <td>1.0</td>\n      <td>0.777778</td>\n      <td>0.500</td>\n      <td>0.666667</td>\n      <td>0.5</td>\n      <td>0.8</td>\n      <td>0.75</td>\n      <td>0.75</td>\n      <td>1.000000</td>\n      <td>0.166667</td>\n      <td>1.00</td>\n      <td>0.6</td>\n      <td>0.666667</td>\n      <td>0.6</td>\n      <td>0.6</td>\n      <td>0.0</td>\n    </tr>\n  </tbody>\n</table>\n</div>"
     },
     "metadata": {},
     "execution_count": 9
    }
   ],
   "source": [
    "#Encode label_columns\n",
    "label_columns = ['Utilities','OverallQual','OverallCond','ExterQual','ExterCond','BsmtQual','BsmtExposure',\n",
    "                'BsmtCond','BsmtFinType1','BsmtFinType2','HeatingQC','GarageQual','KitchenQual','FireplaceQu',\n",
    "                'GarageCond','PoolQC']\n",
    "LB_cols = pd.DataFrame(train_test[label_columns])\n",
    "LB_cols = LB_cols.replace(\n",
    "    {'Utilities':{'AllPub':4,'NoSewr':3,'NoSeWa':2,'ELO':1},\n",
    "    'ExterQual':{'Ex':5,'Gd':4,'TA':3,'Fa':2,'Po':1},\n",
    "    'ExterCond':{'Ex':5,'Gd':4,'TA':3,'Fa':2,'Po':1},\n",
    "    'BsmtQual':{'Ex':5,'Gd':4,'TA':3,'Fa':2,'Po':1,'NA':0},\n",
    "    'BsmtExposure':{'Gd':4,'Av':3,'Mn':2,'No':1,'NA':0},\n",
    "    'BsmtCond':{'Ex':5,'Gd':4,'TA':3,'Fa':2,'Po':1,'NA':0},\n",
    "    'BsmtFinType1':{'GLQ':6,'ALQ':5,'BLQ':4,'Rec':3,'LwQ':2,'Unf':1,'NA':0},\n",
    "    'BsmtFinType2':{'GLQ':6,'ALQ':5,'BLQ':4,'Rec':3,'LwQ':2,'Unf':1,'NA':0},\n",
    "    'HeatingQC':{'Ex':5,'Gd':4,'TA':3,'Fa':2,'Po':1},\n",
    "    'GarageQual':{'Ex':5,'Gd':4,'TA':3,'Fa':2,'Po':1,'NA':0},\n",
    "    'KitchenQual':{'Ex':5,'Gd':4,'TA':3,'Fa':2,'Po':1},\n",
    "    'FireplaceQu':{'Ex':5,'Gd':4,'TA':3,'Fa':2,'Po':1,'NA':0},\n",
    "    'GarageCond':{'Ex':5,'Gd':4,'TA':3,'Fa':2,'Po':1,'NA':0},\n",
    "    'PoolQC':{'Ex':4,'Gd':3,'TA':2,'Fa':1,'NA':0}}\n",
    ")\n",
    "MinMax_Scaler = MinMaxScaler()\n",
    "LB_cols = pd.DataFrame(MinMax_Scaler.fit_transform(LB_cols),columns=label_columns)\n",
    "LB_cols.index = train_test.index\n",
    "LB_cols.head()"
   ]
  },
  {
   "cell_type": "code",
   "execution_count": 10,
   "metadata": {},
   "outputs": [
    {
     "output_type": "execute_result",
     "data": {
      "text/plain": [
       "     LotArea YearBuilt YearRemodAdd MasVnrArea BsmtFinSF1 BsmtFinSF2  \\\n",
       "Id                                                                     \n",
       "1   0.281320  0.949275     0.883333   0.597109   0.631368        0.0   \n",
       "2   0.303531  0.753623     0.433333   0.000000   0.681814        0.0   \n",
       "3   0.331740  0.934783     0.866667   0.566540   0.576542        0.0   \n",
       "4   0.302614  0.311594     0.333333   0.000000   0.467677        0.0   \n",
       "5   0.375179  0.927536     0.833333   0.695850   0.620109        0.0   \n",
       "\n",
       "   BsmtUnfSF TotalBsmtSF  1stFlrSF  2ndFlrSF  ... 3SsnPorch ScreenPorch  \\\n",
       "Id                                            ...                         \n",
       "1   0.509970    0.650174  0.300044  0.837086  ...       0.0         0.0   \n",
       "2   0.606369    0.711321  0.436792  0.000000  ...       0.0         0.0   \n",
       "3   0.675826    0.661263  0.324842  0.839838  ...       0.0         0.0   \n",
       "4   0.713406    0.631350  0.339969  0.813298  ...       0.0         0.0   \n",
       "5   0.696543    0.695658  0.401762  0.879003  ...       0.0         0.0   \n",
       "\n",
       "   PoolArea MiscVal    MoSold YrSold LotFrontage  HouseAge RemodAddAge  \\\n",
       "Id                                                                       \n",
       "1       0.0     0.0  0.090909   0.50    0.009685  0.043796    0.112903   \n",
       "2       0.0     0.0  0.363636   0.25    0.011673  0.233577    0.532258   \n",
       "3       0.0     0.0  0.727273   0.50    0.010111  0.058394    0.129032   \n",
       "4       0.0     0.0  0.090909   0.00    0.008936  0.671533    0.612903   \n",
       "5       0.0     0.0  1.000000   0.50    0.012150  0.065693    0.161290   \n",
       "\n",
       "   GarageAge  \n",
       "Id            \n",
       "1   0.652866  \n",
       "2   0.735669  \n",
       "3   0.659236  \n",
       "4   0.662420  \n",
       "5   0.662420  \n",
       "\n",
       "[5 rows x 36 columns]"
      ],
      "text/html": "<div>\n<style scoped>\n    .dataframe tbody tr th:only-of-type {\n        vertical-align: middle;\n    }\n\n    .dataframe tbody tr th {\n        vertical-align: top;\n    }\n\n    .dataframe thead tr th {\n        text-align: left;\n    }\n\n    .dataframe thead tr:last-of-type th {\n        text-align: right;\n    }\n</style>\n<table border=\"1\" class=\"dataframe\">\n  <thead>\n    <tr>\n      <th></th>\n      <th>LotArea</th>\n      <th>YearBuilt</th>\n      <th>YearRemodAdd</th>\n      <th>MasVnrArea</th>\n      <th>BsmtFinSF1</th>\n      <th>BsmtFinSF2</th>\n      <th>BsmtUnfSF</th>\n      <th>TotalBsmtSF</th>\n      <th>1stFlrSF</th>\n      <th>2ndFlrSF</th>\n      <th>...</th>\n      <th>3SsnPorch</th>\n      <th>ScreenPorch</th>\n      <th>PoolArea</th>\n      <th>MiscVal</th>\n      <th>MoSold</th>\n      <th>YrSold</th>\n      <th>LotFrontage</th>\n      <th>HouseAge</th>\n      <th>RemodAddAge</th>\n      <th>GarageAge</th>\n    </tr>\n    <tr>\n      <th>Id</th>\n      <th></th>\n      <th></th>\n      <th></th>\n      <th></th>\n      <th></th>\n      <th></th>\n      <th></th>\n      <th></th>\n      <th></th>\n      <th></th>\n      <th></th>\n      <th></th>\n      <th></th>\n      <th></th>\n      <th></th>\n      <th></th>\n      <th></th>\n      <th></th>\n      <th></th>\n      <th></th>\n      <th></th>\n    </tr>\n  </thead>\n  <tbody>\n    <tr>\n      <th>1</th>\n      <td>0.281320</td>\n      <td>0.949275</td>\n      <td>0.883333</td>\n      <td>0.597109</td>\n      <td>0.631368</td>\n      <td>0.0</td>\n      <td>0.509970</td>\n      <td>0.650174</td>\n      <td>0.300044</td>\n      <td>0.837086</td>\n      <td>...</td>\n      <td>0.0</td>\n      <td>0.0</td>\n      <td>0.0</td>\n      <td>0.0</td>\n      <td>0.090909</td>\n      <td>0.50</td>\n      <td>0.009685</td>\n      <td>0.043796</td>\n      <td>0.112903</td>\n      <td>0.652866</td>\n    </tr>\n    <tr>\n      <th>2</th>\n      <td>0.303531</td>\n      <td>0.753623</td>\n      <td>0.433333</td>\n      <td>0.000000</td>\n      <td>0.681814</td>\n      <td>0.0</td>\n      <td>0.606369</td>\n      <td>0.711321</td>\n      <td>0.436792</td>\n      <td>0.000000</td>\n      <td>...</td>\n      <td>0.0</td>\n      <td>0.0</td>\n      <td>0.0</td>\n      <td>0.0</td>\n      <td>0.363636</td>\n      <td>0.25</td>\n      <td>0.011673</td>\n      <td>0.233577</td>\n      <td>0.532258</td>\n      <td>0.735669</td>\n    </tr>\n    <tr>\n      <th>3</th>\n      <td>0.331740</td>\n      <td>0.934783</td>\n      <td>0.866667</td>\n      <td>0.566540</td>\n      <td>0.576542</td>\n      <td>0.0</td>\n      <td>0.675826</td>\n      <td>0.661263</td>\n      <td>0.324842</td>\n      <td>0.839838</td>\n      <td>...</td>\n      <td>0.0</td>\n      <td>0.0</td>\n      <td>0.0</td>\n      <td>0.0</td>\n      <td>0.727273</td>\n      <td>0.50</td>\n      <td>0.010111</td>\n      <td>0.058394</td>\n      <td>0.129032</td>\n      <td>0.659236</td>\n    </tr>\n    <tr>\n      <th>4</th>\n      <td>0.302614</td>\n      <td>0.311594</td>\n      <td>0.333333</td>\n      <td>0.000000</td>\n      <td>0.467677</td>\n      <td>0.0</td>\n      <td>0.713406</td>\n      <td>0.631350</td>\n      <td>0.339969</td>\n      <td>0.813298</td>\n      <td>...</td>\n      <td>0.0</td>\n      <td>0.0</td>\n      <td>0.0</td>\n      <td>0.0</td>\n      <td>0.090909</td>\n      <td>0.00</td>\n      <td>0.008936</td>\n      <td>0.671533</td>\n      <td>0.612903</td>\n      <td>0.662420</td>\n    </tr>\n    <tr>\n      <th>5</th>\n      <td>0.375179</td>\n      <td>0.927536</td>\n      <td>0.833333</td>\n      <td>0.695850</td>\n      <td>0.620109</td>\n      <td>0.0</td>\n      <td>0.696543</td>\n      <td>0.695658</td>\n      <td>0.401762</td>\n      <td>0.879003</td>\n      <td>...</td>\n      <td>0.0</td>\n      <td>0.0</td>\n      <td>0.0</td>\n      <td>0.0</td>\n      <td>1.000000</td>\n      <td>0.50</td>\n      <td>0.012150</td>\n      <td>0.065693</td>\n      <td>0.161290</td>\n      <td>0.662420</td>\n    </tr>\n  </tbody>\n</table>\n<p>5 rows × 36 columns</p>\n</div>"
     },
     "metadata": {},
     "execution_count": 10
    }
   ],
   "source": [
    "#Numerical columns scaler\n",
    "MinMax_Scaler = MinMaxScaler()\n",
    "MM_cols = pd.DataFrame(MinMax_Scaler.fit_transform(train_test[numerical_columns]),columns = [numerical_columns])\n",
    "MM_cols.index = train_test.index\n",
    "MM_cols.head(5)"
   ]
  },
  {
   "cell_type": "code",
   "execution_count": 11,
   "metadata": {},
   "outputs": [
    {
     "output_type": "execute_result",
     "data": {
      "text/plain": [
       "    MSSubClass_30  MSSubClass_40  MSSubClass_45  MSSubClass_50  MSSubClass_60  \\\n",
       "Id                                                                              \n",
       "1             0.0            0.0            0.0            0.0            1.0   \n",
       "2             0.0            0.0            0.0            0.0            0.0   \n",
       "3             0.0            0.0            0.0            0.0            1.0   \n",
       "4             0.0            0.0            0.0            0.0            0.0   \n",
       "5             0.0            0.0            0.0            0.0            1.0   \n",
       "\n",
       "    MSSubClass_70  MSSubClass_75  MSSubClass_80  MSSubClass_85  MSSubClass_90  \\\n",
       "Id                                                                              \n",
       "1             0.0            0.0            0.0            0.0            0.0   \n",
       "2             0.0            0.0            0.0            0.0            0.0   \n",
       "3             0.0            0.0            0.0            0.0            0.0   \n",
       "4             1.0            0.0            0.0            0.0            0.0   \n",
       "5             0.0            0.0            0.0            0.0            0.0   \n",
       "\n",
       "    ...  (3SsnPorch,)  (ScreenPorch,)  (PoolArea,)  (MiscVal,)  (MoSold,)  \\\n",
       "Id  ...                                                                     \n",
       "1   ...           0.0             0.0          0.0         0.0   0.090909   \n",
       "2   ...           0.0             0.0          0.0         0.0   0.363636   \n",
       "3   ...           0.0             0.0          0.0         0.0   0.727273   \n",
       "4   ...           0.0             0.0          0.0         0.0   0.090909   \n",
       "5   ...           0.0             0.0          0.0         0.0   1.000000   \n",
       "\n",
       "    (YrSold,)  (LotFrontage,)  (HouseAge,)  (RemodAddAge,)  (GarageAge,)  \n",
       "Id                                                                        \n",
       "1        0.50        0.009685     0.043796        0.112903      0.652866  \n",
       "2        0.25        0.011673     0.233577        0.532258      0.735669  \n",
       "3        0.50        0.010111     0.058394        0.129032      0.659236  \n",
       "4        0.00        0.008936     0.671533        0.612903      0.662420  \n",
       "5        0.50        0.012150     0.065693        0.161290      0.662420  \n",
       "\n",
       "[5 rows x 235 columns]"
      ],
      "text/html": "<div>\n<style scoped>\n    .dataframe tbody tr th:only-of-type {\n        vertical-align: middle;\n    }\n\n    .dataframe tbody tr th {\n        vertical-align: top;\n    }\n\n    .dataframe thead th {\n        text-align: right;\n    }\n</style>\n<table border=\"1\" class=\"dataframe\">\n  <thead>\n    <tr style=\"text-align: right;\">\n      <th></th>\n      <th>MSSubClass_30</th>\n      <th>MSSubClass_40</th>\n      <th>MSSubClass_45</th>\n      <th>MSSubClass_50</th>\n      <th>MSSubClass_60</th>\n      <th>MSSubClass_70</th>\n      <th>MSSubClass_75</th>\n      <th>MSSubClass_80</th>\n      <th>MSSubClass_85</th>\n      <th>MSSubClass_90</th>\n      <th>...</th>\n      <th>(3SsnPorch,)</th>\n      <th>(ScreenPorch,)</th>\n      <th>(PoolArea,)</th>\n      <th>(MiscVal,)</th>\n      <th>(MoSold,)</th>\n      <th>(YrSold,)</th>\n      <th>(LotFrontage,)</th>\n      <th>(HouseAge,)</th>\n      <th>(RemodAddAge,)</th>\n      <th>(GarageAge,)</th>\n    </tr>\n    <tr>\n      <th>Id</th>\n      <th></th>\n      <th></th>\n      <th></th>\n      <th></th>\n      <th></th>\n      <th></th>\n      <th></th>\n      <th></th>\n      <th></th>\n      <th></th>\n      <th></th>\n      <th></th>\n      <th></th>\n      <th></th>\n      <th></th>\n      <th></th>\n      <th></th>\n      <th></th>\n      <th></th>\n      <th></th>\n      <th></th>\n    </tr>\n  </thead>\n  <tbody>\n    <tr>\n      <th>1</th>\n      <td>0.0</td>\n      <td>0.0</td>\n      <td>0.0</td>\n      <td>0.0</td>\n      <td>1.0</td>\n      <td>0.0</td>\n      <td>0.0</td>\n      <td>0.0</td>\n      <td>0.0</td>\n      <td>0.0</td>\n      <td>...</td>\n      <td>0.0</td>\n      <td>0.0</td>\n      <td>0.0</td>\n      <td>0.0</td>\n      <td>0.090909</td>\n      <td>0.50</td>\n      <td>0.009685</td>\n      <td>0.043796</td>\n      <td>0.112903</td>\n      <td>0.652866</td>\n    </tr>\n    <tr>\n      <th>2</th>\n      <td>0.0</td>\n      <td>0.0</td>\n      <td>0.0</td>\n      <td>0.0</td>\n      <td>0.0</td>\n      <td>0.0</td>\n      <td>0.0</td>\n      <td>0.0</td>\n      <td>0.0</td>\n      <td>0.0</td>\n      <td>...</td>\n      <td>0.0</td>\n      <td>0.0</td>\n      <td>0.0</td>\n      <td>0.0</td>\n      <td>0.363636</td>\n      <td>0.25</td>\n      <td>0.011673</td>\n      <td>0.233577</td>\n      <td>0.532258</td>\n      <td>0.735669</td>\n    </tr>\n    <tr>\n      <th>3</th>\n      <td>0.0</td>\n      <td>0.0</td>\n      <td>0.0</td>\n      <td>0.0</td>\n      <td>1.0</td>\n      <td>0.0</td>\n      <td>0.0</td>\n      <td>0.0</td>\n      <td>0.0</td>\n      <td>0.0</td>\n      <td>...</td>\n      <td>0.0</td>\n      <td>0.0</td>\n      <td>0.0</td>\n      <td>0.0</td>\n      <td>0.727273</td>\n      <td>0.50</td>\n      <td>0.010111</td>\n      <td>0.058394</td>\n      <td>0.129032</td>\n      <td>0.659236</td>\n    </tr>\n    <tr>\n      <th>4</th>\n      <td>0.0</td>\n      <td>0.0</td>\n      <td>0.0</td>\n      <td>0.0</td>\n      <td>0.0</td>\n      <td>1.0</td>\n      <td>0.0</td>\n      <td>0.0</td>\n      <td>0.0</td>\n      <td>0.0</td>\n      <td>...</td>\n      <td>0.0</td>\n      <td>0.0</td>\n      <td>0.0</td>\n      <td>0.0</td>\n      <td>0.090909</td>\n      <td>0.00</td>\n      <td>0.008936</td>\n      <td>0.671533</td>\n      <td>0.612903</td>\n      <td>0.662420</td>\n    </tr>\n    <tr>\n      <th>5</th>\n      <td>0.0</td>\n      <td>0.0</td>\n      <td>0.0</td>\n      <td>0.0</td>\n      <td>1.0</td>\n      <td>0.0</td>\n      <td>0.0</td>\n      <td>0.0</td>\n      <td>0.0</td>\n      <td>0.0</td>\n      <td>...</td>\n      <td>0.0</td>\n      <td>0.0</td>\n      <td>0.0</td>\n      <td>0.0</td>\n      <td>1.000000</td>\n      <td>0.50</td>\n      <td>0.012150</td>\n      <td>0.065693</td>\n      <td>0.161290</td>\n      <td>0.662420</td>\n    </tr>\n  </tbody>\n</table>\n<p>5 rows × 235 columns</p>\n</div>"
     },
     "metadata": {},
     "execution_count": 11
    }
   ],
   "source": [
    "train_test_transformed = OH_cols.join(LB_cols)\n",
    "train_test_transformed = train_test_transformed.join(MM_cols)\n",
    "train_test_transformed.head(5)"
   ]
  },
  {
   "cell_type": "code",
   "execution_count": 12,
   "metadata": {},
   "outputs": [],
   "source": [
    "test_data_X = train_test_transformed.loc[test.index.tolist(),:]\n",
    "train_data_X = train_test_transformed.loc[train.index.tolist(),:]"
   ]
  },
  {
   "cell_type": "code",
   "execution_count": 13,
   "metadata": {},
   "outputs": [
    {
     "output_type": "stream",
     "name": "stdout",
     "text": [
      "{'alpha': [0.0, 0.1, 0.2, 0.30000000000000004, 0.4, 0.5, 0.6000000000000001, 0.7000000000000001, 0.8, 0.9, 1.0], 'max_iter': [100, 119, 138, 157, 176, 195, 215, 234, 253, 272, 291, 311, 330, 349, 368, 387, 407, 426, 445, 464, 483, 503, 522, 541, 560, 579, 598, 618, 637, 656, 675, 694, 714, 733, 752, 771, 790, 810, 829, 848, 867, 886, 906, 925, 944, 963, 982, 1002, 1021, 1040, 1059, 1078, 1097, 1117, 1136, 1155, 1174, 1193, 1213, 1232, 1251, 1270, 1289, 1309, 1328, 1347, 1366, 1385, 1405, 1424, 1443, 1462, 1481, 1501, 1520, 1539, 1558, 1577, 1596, 1616, 1635, 1654, 1673, 1692, 1712, 1731, 1750, 1769, 1788, 1808, 1827, 1846, 1865, 1884, 1904, 1923, 1942, 1961, 1980, 2000], 'tol': [1, 0.1, 0.01, 0.001, 0.0001, 1e-05, 1e-06]}\n"
     ]
    }
   ],
   "source": [
    "#Lasso\n",
    "lasso = Lasso()\n",
    "\n",
    "alphas = [float(x) for x in np.linspace(start = 0, stop = 1, num = 11)]\n",
    "max_iters = [int(x) for x in np.linspace(start = 100, stop = 2000, num = 100)]\n",
    "tols = [1,1e-1,1e-2,1e-3,1e-4,1e-5,1e-6]\n",
    "\n",
    "# Create the random grid\n",
    "random_grid = {'alpha': alphas,\n",
    "               'max_iter': max_iters,\n",
    "               'tol': tols}\n",
    "\n",
    "print(random_grid)"
   ]
  },
  {
   "cell_type": "code",
   "execution_count": 14,
   "metadata": {},
   "outputs": [
    {
     "output_type": "stream",
     "name": "stdout",
     "text": [
      "Fitting 5 folds for each of 100 candidates, totalling 500 fits\n",
      "[Parallel(n_jobs=-1)]: Using backend LokyBackend with 8 concurrent workers.\n",
      "[Parallel(n_jobs=-1)]: Done  25 tasks      | elapsed:    3.3s\n",
      "[Parallel(n_jobs=-1)]: Done 148 tasks      | elapsed:    5.6s\n",
      "[Parallel(n_jobs=-1)]: Done 500 out of 500 | elapsed:   13.6s finished\n"
     ]
    },
    {
     "output_type": "execute_result",
     "data": {
      "text/plain": [
       "RandomizedSearchCV(cv=5, estimator=Lasso(), n_iter=100, n_jobs=-1,\n",
       "                   param_distributions={'alpha': [0.0, 0.1, 0.2,\n",
       "                                                  0.30000000000000004, 0.4, 0.5,\n",
       "                                                  0.6000000000000001,\n",
       "                                                  0.7000000000000001, 0.8, 0.9,\n",
       "                                                  1.0],\n",
       "                                        'max_iter': [100, 119, 138, 157, 176,\n",
       "                                                     195, 215, 234, 253, 272,\n",
       "                                                     291, 311, 330, 349, 368,\n",
       "                                                     387, 407, 426, 445, 464,\n",
       "                                                     483, 503, 522, 541, 560,\n",
       "                                                     579, 598, 618, 637, 656, ...],\n",
       "                                        'tol': [1, 0.1, 0.01, 0.001, 0.0001,\n",
       "                                                1e-05, 1e-06]},\n",
       "                   random_state=42, verbose=2)"
      ]
     },
     "metadata": {},
     "execution_count": 14
    }
   ],
   "source": [
    "rf_random = RandomizedSearchCV(estimator = lasso, param_distributions = random_grid, n_iter = 100, cv = 5, verbose=2, random_state=42, n_jobs = -1)\n",
    "rf_random.fit(train_data_X, train_sale_price_log1p)"
   ]
  },
  {
   "cell_type": "code",
   "execution_count": 15,
   "metadata": {},
   "outputs": [
    {
     "output_type": "execute_result",
     "data": {
      "text/plain": [
       "Lasso(alpha=0.0, max_iter=157, tol=0.01)"
      ]
     },
     "metadata": {},
     "execution_count": 15
    }
   ],
   "source": [
    "rf_random.best_estimator_"
   ]
  },
  {
   "cell_type": "code",
   "execution_count": 16,
   "metadata": {},
   "outputs": [],
   "source": [
    "#Best parameters based on random search cv\n",
    "alphas = [float(x) for x in np.linspace(start = 0, stop = 0.05, num = 20)]\n",
    "max_iters = [int(x) for x in np.linspace(start = 50, stop = 250, num = 100)]\n",
    "tols = [1e-2,1e-3,1e-4]\n",
    "\n",
    "# Create the param grid\n",
    "param_grid = {'alpha': alphas,\n",
    "               'max_iter': max_iters,\n",
    "               'tol': tols}"
   ]
  },
  {
   "cell_type": "code",
   "execution_count": 17,
   "metadata": {},
   "outputs": [
    {
     "output_type": "stream",
     "name": "stdout",
     "text": [
      "Fitting 5 folds for each of 6000 candidates, totalling 30000 fits\n",
      "[Parallel(n_jobs=-1)]: Using backend LokyBackend with 8 concurrent workers.\n",
      "[Parallel(n_jobs=-1)]: Done  34 tasks      | elapsed:    0.5s\n",
      "[Parallel(n_jobs=-1)]: Done 276 tasks      | elapsed:    4.1s\n",
      "[Parallel(n_jobs=-1)]: Done 682 tasks      | elapsed:   13.4s\n",
      "[Parallel(n_jobs=-1)]: Done 1248 tasks      | elapsed:   32.8s\n",
      "[Parallel(n_jobs=-1)]: Done 1978 tasks      | elapsed:   49.7s\n",
      "[Parallel(n_jobs=-1)]: Done 2868 tasks      | elapsed:  1.0min\n",
      "[Parallel(n_jobs=-1)]: Done 3922 tasks      | elapsed:  1.2min\n",
      "[Parallel(n_jobs=-1)]: Done 5136 tasks      | elapsed:  1.4min\n",
      "[Parallel(n_jobs=-1)]: Done 6514 tasks      | elapsed:  1.6min\n",
      "[Parallel(n_jobs=-1)]: Done 8052 tasks      | elapsed:  1.8min\n",
      "[Parallel(n_jobs=-1)]: Done 9754 tasks      | elapsed:  2.0min\n",
      "[Parallel(n_jobs=-1)]: Done 11616 tasks      | elapsed:  2.3min\n",
      "[Parallel(n_jobs=-1)]: Done 13642 tasks      | elapsed:  2.6min\n",
      "[Parallel(n_jobs=-1)]: Done 15828 tasks      | elapsed:  2.9min\n",
      "[Parallel(n_jobs=-1)]: Done 18178 tasks      | elapsed:  3.2min\n",
      "[Parallel(n_jobs=-1)]: Done 21232 tasks      | elapsed:  3.5min\n",
      "[Parallel(n_jobs=-1)]: Done 26580 tasks      | elapsed:  4.2min\n",
      "[Parallel(n_jobs=-1)]: Done 30000 out of 30000 | elapsed:  4.6min finished\n"
     ]
    },
    {
     "output_type": "execute_result",
     "data": {
      "text/plain": [
       "GridSearchCV(cv=5, estimator=Lasso(), n_jobs=-1,\n",
       "             param_grid={'alpha': [0.0, 0.002631578947368421,\n",
       "                                   0.005263157894736842, 0.007894736842105263,\n",
       "                                   0.010526315789473684, 0.013157894736842105,\n",
       "                                   0.015789473684210527, 0.018421052631578946,\n",
       "                                   0.021052631578947368, 0.02368421052631579,\n",
       "                                   0.02631578947368421, 0.02894736842105263,\n",
       "                                   0.031578947368421054, 0.034210526315789476,\n",
       "                                   0.03684210526315789, 0.039473684210526314,\n",
       "                                   0.042105263157894736, 0.04473684210526316,\n",
       "                                   0.04736842105263158, 0.05],\n",
       "                         'max_iter': [50, 52, 54, 56, 58, 60, 62, 64, 66, 68,\n",
       "                                      70, 72, 74, 76, 78, 80, 82, 84, 86, 88,\n",
       "                                      90, 92, 94, 96, 98, 100, 102, 104, 106,\n",
       "                                      108, ...],\n",
       "                         'tol': [0.01, 0.001, 0.0001]},\n",
       "             verbose=2)"
      ]
     },
     "metadata": {},
     "execution_count": 17
    }
   ],
   "source": [
    "grid_search = GridSearchCV(estimator = lasso, param_grid = param_grid, \n",
    "                          cv = 5, n_jobs = -1, verbose = 2)\n",
    "grid_search.fit(train_data_X, train_sale_price_log1p)"
   ]
  },
  {
   "cell_type": "code",
   "execution_count": 18,
   "metadata": {},
   "outputs": [
    {
     "output_type": "stream",
     "name": "stdout",
     "text": [
      "Lasso(alpha=0.002631578947368421, max_iter=50, tol=0.01)\n"
     ]
    }
   ],
   "source": [
    "best_grid = grid_search.best_estimator_\n",
    "print(best_grid)"
   ]
  },
  {
   "cell_type": "code",
   "execution_count": 19,
   "metadata": {},
   "outputs": [],
   "source": [
    "lasso = make_pipeline(RobustScaler(), Lasso(alpha=0.002631578947368421, max_iter=50, tol=0.01))\n",
    "\n",
    "lasso.fit(train_data_X, train_sale_price_log1p)\n",
    "\n",
    "pred_test = lasso.predict(test_data_X)\n",
    "pred_test = np.expm1(pred_test)\n",
    "\n",
    "sample_submission = pd.read_csv(\"./data/input/sample_submission.csv\")\n",
    "sample_submission['SalePrice'] = pred_test\n",
    "sample_submission.to_csv(f\"./data/output/submission_Lasso_{datetime.now().strftime('%d_%m_%Y')}.csv\",index=False)"
   ]
  },
  {
   "cell_type": "code",
   "execution_count": 20,
   "metadata": {},
   "outputs": [
    {
     "output_type": "stream",
     "name": "stdout",
     "text": [
      "{'alpha': [0.0, 0.1, 0.2, 0.30000000000000004, 0.4, 0.5, 0.6000000000000001, 0.7000000000000001, 0.8, 0.9, 1.0], 'kernel': ['linear', 'polynomial', 'rbf', 'sigmoid'], 'degree': [2, 3, 4, 5], 'coef0': [0.0, 2.0, 4.0, 6.0, 8.0, 10.0, 12.0, 14.0, 16.0, 18.0, 20.0], 'gamma': [1, 0.1, 0.01, 0.001, 0.0001, 1e-05, 1e-06]}\n"
     ]
    }
   ],
   "source": [
    "#Ridge\n",
    "KRR = KernelRidge()\n",
    "\n",
    "alphas = [float(x) for x in np.linspace(start = 0, stop = 1, num = 11)]\n",
    "kernels = ['linear','polynomial','rbf','sigmoid']\n",
    "degrees = [2,3,4,5]\n",
    "coef0s = [float(x) for x in np.linspace(start = 0, stop = 20, num = 11)]\n",
    "gammas = [1,1e-1,1e-2,1e-3,1e-4,1e-5,1e-6]\n",
    "\n",
    "# Create the random grid\n",
    "random_grid = {'alpha': alphas,\n",
    "               'kernel': kernels,\n",
    "               'degree': degrees,\n",
    "               'coef0': coef0s,\n",
    "               'gamma': gammas}\n",
    "\n",
    "print(random_grid)"
   ]
  },
  {
   "cell_type": "code",
   "execution_count": 21,
   "metadata": {},
   "outputs": [
    {
     "output_type": "stream",
     "name": "stdout",
     "text": [
      "Fitting 5 folds for each of 100 candidates, totalling 500 fits\n",
      "[Parallel(n_jobs=-1)]: Using backend LokyBackend with 8 concurrent workers.\n",
      "[Parallel(n_jobs=-1)]: Done  25 tasks      | elapsed:    4.8s\n",
      "[Parallel(n_jobs=-1)]: Done 146 tasks      | elapsed:   14.5s\n",
      "[Parallel(n_jobs=-1)]: Done 349 tasks      | elapsed:   28.3s\n",
      "[Parallel(n_jobs=-1)]: Done 500 out of 500 | elapsed:   47.2s finished\n"
     ]
    },
    {
     "output_type": "execute_result",
     "data": {
      "text/plain": [
       "RandomizedSearchCV(cv=5, estimator=KernelRidge(), n_iter=100, n_jobs=-1,\n",
       "                   param_distributions={'alpha': [0.0, 0.1, 0.2,\n",
       "                                                  0.30000000000000004, 0.4, 0.5,\n",
       "                                                  0.6000000000000001,\n",
       "                                                  0.7000000000000001, 0.8, 0.9,\n",
       "                                                  1.0],\n",
       "                                        'coef0': [0.0, 2.0, 4.0, 6.0, 8.0, 10.0,\n",
       "                                                  12.0, 14.0, 16.0, 18.0,\n",
       "                                                  20.0],\n",
       "                                        'degree': [2, 3, 4, 5],\n",
       "                                        'gamma': [1, 0.1, 0.01, 0.001, 0.0001,\n",
       "                                                  1e-05, 1e-06],\n",
       "                                        'kernel': ['linear', 'polynomial',\n",
       "                                                   'rbf', 'sigmoid']},\n",
       "                   random_state=42, verbose=2)"
      ]
     },
     "metadata": {},
     "execution_count": 21
    }
   ],
   "source": [
    "rf_random = RandomizedSearchCV(estimator = KRR, param_distributions = random_grid, n_iter = 100, cv = 5, verbose=2, random_state=42, n_jobs = -1)\n",
    "rf_random.fit(train_data_X, train_sale_price_log1p)"
   ]
  },
  {
   "cell_type": "code",
   "execution_count": 22,
   "metadata": {},
   "outputs": [
    {
     "output_type": "execute_result",
     "data": {
      "text/plain": [
       "KernelRidge(alpha=0.9, coef0=10.0, degree=2, gamma=0.1, kernel='polynomial')"
      ]
     },
     "metadata": {},
     "execution_count": 22
    }
   ],
   "source": [
    "rf_random.best_estimator_"
   ]
  },
  {
   "cell_type": "code",
   "execution_count": 27,
   "metadata": {},
   "outputs": [
    {
     "output_type": "stream",
     "name": "stdout",
     "text": [
      "{'alpha': [0.7, 0.7157894736842105, 0.731578947368421, 0.7473684210526316, 0.763157894736842, 0.7789473684210526, 0.7947368421052632, 0.8105263157894737, 0.8263157894736842, 0.8421052631578947, 0.8578947368421053, 0.8736842105263158, 0.8894736842105263, 0.9052631578947369, 0.9210526315789473, 0.9368421052631579, 0.9526315789473685, 0.968421052631579, 0.9842105263157894, 1.0], 'kernel': ['polynomial'], 'degree': [2], 'coef0': [6.0, 6.2105263157894735, 6.421052631578947, 6.631578947368421, 6.842105263157895, 7.052631578947368, 7.2631578947368425, 7.473684210526316, 7.684210526315789, 7.894736842105263, 8.105263157894736, 8.31578947368421, 8.526315789473685, 8.736842105263158, 8.947368421052632, 9.157894736842106, 9.368421052631579, 9.578947368421051, 9.789473684210526, 10.0]}\n"
     ]
    }
   ],
   "source": [
    "#Best parameters based on random search cv\n",
    "alphas = [float(x) for x in np.linspace(start = 0.7, stop = 1, num = 20)]\n",
    "kernels = ['polynomial']\n",
    "degrees = [2]\n",
    "coef0s = [float(x) for x in np.linspace(start = 6, stop = 10, num = 20)]\n",
    "\n",
    "# Create the param grid\n",
    "param_grid = {'alpha': alphas,\n",
    "               'kernel': kernels,\n",
    "               'degree': degrees,\n",
    "               'coef0': coef0s}\n",
    "\n",
    "print(param_grid)"
   ]
  },
  {
   "cell_type": "code",
   "execution_count": 28,
   "metadata": {},
   "outputs": [
    {
     "output_type": "stream",
     "name": "stdout",
     "text": [
      "Fitting 5 folds for each of 400 candidates, totalling 2000 fits\n",
      "[Parallel(n_jobs=-1)]: Using backend LokyBackend with 8 concurrent workers.\n",
      "[Parallel(n_jobs=-1)]: Done  25 tasks      | elapsed:    1.5s\n",
      "[Parallel(n_jobs=-1)]: Done 146 tasks      | elapsed:    7.8s\n",
      "[Parallel(n_jobs=-1)]: Done 349 tasks      | elapsed:   18.3s\n",
      "[Parallel(n_jobs=-1)]: Done 632 tasks      | elapsed:   32.9s\n",
      "[Parallel(n_jobs=-1)]: Done 997 tasks      | elapsed:   51.9s\n",
      "[Parallel(n_jobs=-1)]: Done 1442 tasks      | elapsed:  1.2min\n",
      "[Parallel(n_jobs=-1)]: Done 1969 tasks      | elapsed:  1.7min\n",
      "[Parallel(n_jobs=-1)]: Done 2000 out of 2000 | elapsed:  1.7min finished\n"
     ]
    },
    {
     "output_type": "execute_result",
     "data": {
      "text/plain": [
       "GridSearchCV(cv=5,\n",
       "             estimator=KernelRidge(alpha=0.4, coef0=10.0, degree=2,\n",
       "                                   kernel='polynomial'),\n",
       "             n_jobs=-1,\n",
       "             param_grid={'alpha': [0.7, 0.7157894736842105, 0.731578947368421,\n",
       "                                   0.7473684210526316, 0.763157894736842,\n",
       "                                   0.7789473684210526, 0.7947368421052632,\n",
       "                                   0.8105263157894737, 0.8263157894736842,\n",
       "                                   0.8421052631578947, 0.8578947368421053,\n",
       "                                   0.8736842105263158, 0.889473684210526...\n",
       "                         'coef0': [6.0, 6.2105263157894735, 6.421052631578947,\n",
       "                                   6.631578947368421, 6.842105263157895,\n",
       "                                   7.052631578947368, 7.2631578947368425,\n",
       "                                   7.473684210526316, 7.684210526315789,\n",
       "                                   7.894736842105263, 8.105263157894736,\n",
       "                                   8.31578947368421, 8.526315789473685,\n",
       "                                   8.736842105263158, 8.947368421052632,\n",
       "                                   9.157894736842106, 9.368421052631579,\n",
       "                                   9.578947368421051, 9.789473684210526, 10.0],\n",
       "                         'degree': [2], 'kernel': ['polynomial']},\n",
       "             verbose=2)"
      ]
     },
     "metadata": {},
     "execution_count": 28
    }
   ],
   "source": [
    "grid_search = GridSearchCV(estimator = KRR, param_grid = param_grid, \n",
    "                          cv = 5, n_jobs = -1, verbose = 2)\n",
    "grid_search.fit(train_data_X, train_sale_price_log1p)"
   ]
  },
  {
   "cell_type": "code",
   "execution_count": 29,
   "metadata": {},
   "outputs": [
    {
     "output_type": "stream",
     "name": "stdout",
     "text": [
      "KernelRidge(alpha=0.7, coef0=10.0, degree=2, kernel='polynomial')\n"
     ]
    }
   ],
   "source": [
    "best_grid = grid_search.best_estimator_\n",
    "print(best_grid)"
   ]
  },
  {
   "cell_type": "code",
   "execution_count": 30,
   "metadata": {},
   "outputs": [],
   "source": [
    "KRR = KernelRidge(alpha=0.7, coef0=10.0, degree=2, kernel='polynomial')\n",
    "\n",
    "KRR.fit(train_data_X, train_sale_price_log1p)\n",
    "\n",
    "pred_test = KRR.predict(test_data_X)\n",
    "pred_test = np.expm1(pred_test)\n",
    "\n",
    "sample_submission = pd.read_csv(\"./data/input/sample_submission.csv\")\n",
    "sample_submission['SalePrice'] = pred_test\n",
    "sample_submission.to_csv(f\"./data/output/submission_KRR_{datetime.now().strftime('%d_%m_%Y')}.csv\",index=False)"
   ]
  }
 ]
}