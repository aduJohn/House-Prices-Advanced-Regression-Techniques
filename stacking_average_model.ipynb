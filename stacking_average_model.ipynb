{
 "metadata": {
  "language_info": {
   "codemirror_mode": {
    "name": "ipython",
    "version": 3
   },
   "file_extension": ".py",
   "mimetype": "text/x-python",
   "name": "python",
   "nbconvert_exporter": "python",
   "pygments_lexer": "ipython3",
   "version": "3.8.6-final"
  },
  "orig_nbformat": 2,
  "kernelspec": {
   "name": "python3",
   "display_name": "Python 3"
  }
 },
 "nbformat": 4,
 "nbformat_minor": 2,
 "cells": [
  {
   "cell_type": "code",
   "execution_count": 1,
   "metadata": {},
   "outputs": [],
   "source": [
    "import pandas as pd\n",
    "import numpy as np\n",
    "from sklearn.kernel_ridge import KernelRidge\n",
    "from sklearn.linear_model import ElasticNet, Lasso,  BayesianRidge, LassoLarsIC\n",
    "from sklearn.pipeline import make_pipeline\n",
    "from libraries.DataUtils import DataUtils\n",
    "from libraries.AverageStackingModels import AverageStackingModels\n",
    "from sklearn.preprocessing import OneHotEncoder\n",
    "from sklearn.preprocessing import MinMaxScaler\n",
    "from sklearn.model_selection import train_test_split,KFold, cross_val_score\n",
    "from sklearn.model_selection import RandomizedSearchCV\n",
    "from sklearn.model_selection import GridSearchCV\n",
    "from sklearn.linear_model import ElasticNet\n",
    "from sklearn.preprocessing import RobustScaler\n",
    "from sklearn.ensemble import RandomForestRegressor\n",
    "from sklearn.svm import SVR\n",
    "import xgboost as xgb\n",
    "import lightgbm as lgb\n",
    "from datetime import datetime"
   ]
  },
  {
   "cell_type": "code",
   "execution_count": 2,
   "metadata": {},
   "outputs": [
    {
     "output_type": "execute_result",
     "data": {
      "text/plain": [
       "    MSSubClass MSZoning  LotFrontage    LotArea Street Alley LotShape  \\\n",
       "Id                                                                      \n",
       "1           60       RL     5.831328  19.212182   Pave   NaN      Reg   \n",
       "2           20       RL     6.221214  19.712205   Pave   NaN      Reg   \n",
       "3           60       RL     5.914940  20.347241   Pave   NaN      IR1   \n",
       "4           70       RL     5.684507  19.691553   Pave   NaN      IR1   \n",
       "5           60       RL     6.314735  21.325160   Pave   NaN      IR1   \n",
       "\n",
       "   LandContour Utilities LotConfig  ... YrSold SaleType SaleCondition  \\\n",
       "Id                                  ...                                 \n",
       "1          Lvl    AllPub    Inside  ...   2008       WD        Normal   \n",
       "2          Lvl    AllPub       FR2  ...   2007       WD        Normal   \n",
       "3          Lvl    AllPub    Inside  ...   2008       WD        Normal   \n",
       "4          Lvl    AllPub    Corner  ...   2006       WD       Abnorml   \n",
       "5          Lvl    AllPub       FR2  ...   2008       WD        Normal   \n",
       "\n",
       "   SalePrice HouseAge RemodAddAge  GarageAge  RealSalePrice  SalePriceLog1p  \\\n",
       "Id                                                                            \n",
       "1     208500        5           5          5  195403.106769       12.247699   \n",
       "2     181500       31          31         31  177073.170732       12.109016   \n",
       "3     223500        7           6          7  209460.884234       12.317171   \n",
       "4     140000       91          36          8  140000.000000       11.849405   \n",
       "5     250000        8           8          8  234296.291090       12.429220   \n",
       "\n",
       "    RealSalePriceLog1p  \n",
       "Id                      \n",
       "1            12.182825  \n",
       "2            12.084324  \n",
       "3            12.252297  \n",
       "4            11.849405  \n",
       "5            12.364346  \n",
       "\n",
       "[5 rows x 86 columns]"
      ],
      "text/html": "<div>\n<style scoped>\n    .dataframe tbody tr th:only-of-type {\n        vertical-align: middle;\n    }\n\n    .dataframe tbody tr th {\n        vertical-align: top;\n    }\n\n    .dataframe thead th {\n        text-align: right;\n    }\n</style>\n<table border=\"1\" class=\"dataframe\">\n  <thead>\n    <tr style=\"text-align: right;\">\n      <th></th>\n      <th>MSSubClass</th>\n      <th>MSZoning</th>\n      <th>LotFrontage</th>\n      <th>LotArea</th>\n      <th>Street</th>\n      <th>Alley</th>\n      <th>LotShape</th>\n      <th>LandContour</th>\n      <th>Utilities</th>\n      <th>LotConfig</th>\n      <th>...</th>\n      <th>YrSold</th>\n      <th>SaleType</th>\n      <th>SaleCondition</th>\n      <th>SalePrice</th>\n      <th>HouseAge</th>\n      <th>RemodAddAge</th>\n      <th>GarageAge</th>\n      <th>RealSalePrice</th>\n      <th>SalePriceLog1p</th>\n      <th>RealSalePriceLog1p</th>\n    </tr>\n    <tr>\n      <th>Id</th>\n      <th></th>\n      <th></th>\n      <th></th>\n      <th></th>\n      <th></th>\n      <th></th>\n      <th></th>\n      <th></th>\n      <th></th>\n      <th></th>\n      <th></th>\n      <th></th>\n      <th></th>\n      <th></th>\n      <th></th>\n      <th></th>\n      <th></th>\n      <th></th>\n      <th></th>\n      <th></th>\n      <th></th>\n    </tr>\n  </thead>\n  <tbody>\n    <tr>\n      <th>1</th>\n      <td>60</td>\n      <td>RL</td>\n      <td>5.831328</td>\n      <td>19.212182</td>\n      <td>Pave</td>\n      <td>NaN</td>\n      <td>Reg</td>\n      <td>Lvl</td>\n      <td>AllPub</td>\n      <td>Inside</td>\n      <td>...</td>\n      <td>2008</td>\n      <td>WD</td>\n      <td>Normal</td>\n      <td>208500</td>\n      <td>5</td>\n      <td>5</td>\n      <td>5</td>\n      <td>195403.106769</td>\n      <td>12.247699</td>\n      <td>12.182825</td>\n    </tr>\n    <tr>\n      <th>2</th>\n      <td>20</td>\n      <td>RL</td>\n      <td>6.221214</td>\n      <td>19.712205</td>\n      <td>Pave</td>\n      <td>NaN</td>\n      <td>Reg</td>\n      <td>Lvl</td>\n      <td>AllPub</td>\n      <td>FR2</td>\n      <td>...</td>\n      <td>2007</td>\n      <td>WD</td>\n      <td>Normal</td>\n      <td>181500</td>\n      <td>31</td>\n      <td>31</td>\n      <td>31</td>\n      <td>177073.170732</td>\n      <td>12.109016</td>\n      <td>12.084324</td>\n    </tr>\n    <tr>\n      <th>3</th>\n      <td>60</td>\n      <td>RL</td>\n      <td>5.914940</td>\n      <td>20.347241</td>\n      <td>Pave</td>\n      <td>NaN</td>\n      <td>IR1</td>\n      <td>Lvl</td>\n      <td>AllPub</td>\n      <td>Inside</td>\n      <td>...</td>\n      <td>2008</td>\n      <td>WD</td>\n      <td>Normal</td>\n      <td>223500</td>\n      <td>7</td>\n      <td>6</td>\n      <td>7</td>\n      <td>209460.884234</td>\n      <td>12.317171</td>\n      <td>12.252297</td>\n    </tr>\n    <tr>\n      <th>4</th>\n      <td>70</td>\n      <td>RL</td>\n      <td>5.684507</td>\n      <td>19.691553</td>\n      <td>Pave</td>\n      <td>NaN</td>\n      <td>IR1</td>\n      <td>Lvl</td>\n      <td>AllPub</td>\n      <td>Corner</td>\n      <td>...</td>\n      <td>2006</td>\n      <td>WD</td>\n      <td>Abnorml</td>\n      <td>140000</td>\n      <td>91</td>\n      <td>36</td>\n      <td>8</td>\n      <td>140000.000000</td>\n      <td>11.849405</td>\n      <td>11.849405</td>\n    </tr>\n    <tr>\n      <th>5</th>\n      <td>60</td>\n      <td>RL</td>\n      <td>6.314735</td>\n      <td>21.325160</td>\n      <td>Pave</td>\n      <td>NaN</td>\n      <td>IR1</td>\n      <td>Lvl</td>\n      <td>AllPub</td>\n      <td>FR2</td>\n      <td>...</td>\n      <td>2008</td>\n      <td>WD</td>\n      <td>Normal</td>\n      <td>250000</td>\n      <td>8</td>\n      <td>8</td>\n      <td>8</td>\n      <td>234296.291090</td>\n      <td>12.429220</td>\n      <td>12.364346</td>\n    </tr>\n  </tbody>\n</table>\n<p>5 rows × 86 columns</p>\n</div>"
     },
     "metadata": {},
     "execution_count": 2
    }
   ],
   "source": [
    "train = pd.read_csv(\"./data/input/train_cleaned.csv\")\n",
    "train = train.set_index('Id')\n",
    "train.head(5)"
   ]
  },
  {
   "cell_type": "code",
   "execution_count": 3,
   "metadata": {},
   "outputs": [
    {
     "output_type": "execute_result",
     "data": {
      "text/plain": [
       "      MSSubClass MSZoning  LotFrontage    LotArea Street Alley LotShape  \\\n",
       "Id                                                                        \n",
       "1461          20       RH         80.0  20.479373   Pave   NaN      Reg   \n",
       "1462          20       RL         81.0  21.327220   Pave   NaN      IR1   \n",
       "1463          60       RL         74.0  21.196905   Pave   NaN      IR1   \n",
       "1464          60       RL         78.0  19.865444   Pave   NaN      IR1   \n",
       "1465         120       RL         43.0  17.257255   Pave   NaN      IR1   \n",
       "\n",
       "     LandContour Utilities LotConfig  ...  Fence MiscFeature    MiscVal  \\\n",
       "Id                                    ...                                 \n",
       "1461         Lvl    AllPub    Inside  ...  MnPrv         NaN   0.000000   \n",
       "1462         Lvl    NoSewr    Corner  ...    NaN        Gar2  20.777526   \n",
       "1463         Lvl    AllPub    Inside  ...  MnPrv         NaN   0.000000   \n",
       "1464         Lvl    NoSewr    Inside  ...    NaN         NaN   0.000000   \n",
       "1465         HLS    AllPub    Inside  ...    NaN         NaN   0.000000   \n",
       "\n",
       "     MoSold YrSold SaleType  SaleCondition  HouseAge  RemodAddAge  GarageAge  \n",
       "Id                                                                            \n",
       "1461      6   2010       WD         Normal        49           49         49  \n",
       "1462      6   2010       WD         Normal        52           52         52  \n",
       "1463      3   2010       WD         Normal        13           12         13  \n",
       "1464      6   2010       WD         Normal        12           12         12  \n",
       "1465      1   2010       WD         Normal        18           18         18  \n",
       "\n",
       "[5 rows x 82 columns]"
      ],
      "text/html": "<div>\n<style scoped>\n    .dataframe tbody tr th:only-of-type {\n        vertical-align: middle;\n    }\n\n    .dataframe tbody tr th {\n        vertical-align: top;\n    }\n\n    .dataframe thead th {\n        text-align: right;\n    }\n</style>\n<table border=\"1\" class=\"dataframe\">\n  <thead>\n    <tr style=\"text-align: right;\">\n      <th></th>\n      <th>MSSubClass</th>\n      <th>MSZoning</th>\n      <th>LotFrontage</th>\n      <th>LotArea</th>\n      <th>Street</th>\n      <th>Alley</th>\n      <th>LotShape</th>\n      <th>LandContour</th>\n      <th>Utilities</th>\n      <th>LotConfig</th>\n      <th>...</th>\n      <th>Fence</th>\n      <th>MiscFeature</th>\n      <th>MiscVal</th>\n      <th>MoSold</th>\n      <th>YrSold</th>\n      <th>SaleType</th>\n      <th>SaleCondition</th>\n      <th>HouseAge</th>\n      <th>RemodAddAge</th>\n      <th>GarageAge</th>\n    </tr>\n    <tr>\n      <th>Id</th>\n      <th></th>\n      <th></th>\n      <th></th>\n      <th></th>\n      <th></th>\n      <th></th>\n      <th></th>\n      <th></th>\n      <th></th>\n      <th></th>\n      <th></th>\n      <th></th>\n      <th></th>\n      <th></th>\n      <th></th>\n      <th></th>\n      <th></th>\n      <th></th>\n      <th></th>\n      <th></th>\n      <th></th>\n    </tr>\n  </thead>\n  <tbody>\n    <tr>\n      <th>1461</th>\n      <td>20</td>\n      <td>RH</td>\n      <td>80.0</td>\n      <td>20.479373</td>\n      <td>Pave</td>\n      <td>NaN</td>\n      <td>Reg</td>\n      <td>Lvl</td>\n      <td>AllPub</td>\n      <td>Inside</td>\n      <td>...</td>\n      <td>MnPrv</td>\n      <td>NaN</td>\n      <td>0.000000</td>\n      <td>6</td>\n      <td>2010</td>\n      <td>WD</td>\n      <td>Normal</td>\n      <td>49</td>\n      <td>49</td>\n      <td>49</td>\n    </tr>\n    <tr>\n      <th>1462</th>\n      <td>20</td>\n      <td>RL</td>\n      <td>81.0</td>\n      <td>21.327220</td>\n      <td>Pave</td>\n      <td>NaN</td>\n      <td>IR1</td>\n      <td>Lvl</td>\n      <td>NoSewr</td>\n      <td>Corner</td>\n      <td>...</td>\n      <td>NaN</td>\n      <td>Gar2</td>\n      <td>20.777526</td>\n      <td>6</td>\n      <td>2010</td>\n      <td>WD</td>\n      <td>Normal</td>\n      <td>52</td>\n      <td>52</td>\n      <td>52</td>\n    </tr>\n    <tr>\n      <th>1463</th>\n      <td>60</td>\n      <td>RL</td>\n      <td>74.0</td>\n      <td>21.196905</td>\n      <td>Pave</td>\n      <td>NaN</td>\n      <td>IR1</td>\n      <td>Lvl</td>\n      <td>AllPub</td>\n      <td>Inside</td>\n      <td>...</td>\n      <td>MnPrv</td>\n      <td>NaN</td>\n      <td>0.000000</td>\n      <td>3</td>\n      <td>2010</td>\n      <td>WD</td>\n      <td>Normal</td>\n      <td>13</td>\n      <td>12</td>\n      <td>13</td>\n    </tr>\n    <tr>\n      <th>1464</th>\n      <td>60</td>\n      <td>RL</td>\n      <td>78.0</td>\n      <td>19.865444</td>\n      <td>Pave</td>\n      <td>NaN</td>\n      <td>IR1</td>\n      <td>Lvl</td>\n      <td>NoSewr</td>\n      <td>Inside</td>\n      <td>...</td>\n      <td>NaN</td>\n      <td>NaN</td>\n      <td>0.000000</td>\n      <td>6</td>\n      <td>2010</td>\n      <td>WD</td>\n      <td>Normal</td>\n      <td>12</td>\n      <td>12</td>\n      <td>12</td>\n    </tr>\n    <tr>\n      <th>1465</th>\n      <td>120</td>\n      <td>RL</td>\n      <td>43.0</td>\n      <td>17.257255</td>\n      <td>Pave</td>\n      <td>NaN</td>\n      <td>IR1</td>\n      <td>HLS</td>\n      <td>AllPub</td>\n      <td>Inside</td>\n      <td>...</td>\n      <td>NaN</td>\n      <td>NaN</td>\n      <td>0.000000</td>\n      <td>1</td>\n      <td>2010</td>\n      <td>WD</td>\n      <td>Normal</td>\n      <td>18</td>\n      <td>18</td>\n      <td>18</td>\n    </tr>\n  </tbody>\n</table>\n<p>5 rows × 82 columns</p>\n</div>"
     },
     "metadata": {},
     "execution_count": 3
    }
   ],
   "source": [
    "test = pd.read_csv(\"./data/input/test_cleaned.csv\")\n",
    "test = test.set_index('Id')\n",
    "test.head(5)"
   ]
  },
  {
   "cell_type": "code",
   "execution_count": 4,
   "metadata": {},
   "outputs": [
    {
     "output_type": "stream",
     "name": "stdout",
     "text": [
      "There are 86 columns and 0 (0.00%) of them have null values.\nThere are 82 columns and 0 (0.00%) of them have null values.\n"
     ]
    }
   ],
   "source": [
    "train.fillna(\"NA\",inplace=True)\n",
    "test.fillna(\"NA\",inplace=True)\n",
    "DataUtils.columns_nan_description(train)\n",
    "DataUtils.columns_nan_description(test)"
   ]
  },
  {
   "cell_type": "code",
   "execution_count": 5,
   "metadata": {},
   "outputs": [
    {
     "output_type": "execute_result",
     "data": {
      "text/plain": [
       "    MSSubClass MSZoning  LotFrontage    LotArea Street Alley LotShape  \\\n",
       "Id                                                                      \n",
       "1           60       RL     5.831328  19.212182   Pave    NA      Reg   \n",
       "2           20       RL     6.221214  19.712205   Pave    NA      Reg   \n",
       "3           60       RL     5.914940  20.347241   Pave    NA      IR1   \n",
       "4           70       RL     5.684507  19.691553   Pave    NA      IR1   \n",
       "5           60       RL     6.314735  21.325160   Pave    NA      IR1   \n",
       "\n",
       "   LandContour Utilities LotConfig  ... Fence MiscFeature MiscVal MoSold  \\\n",
       "Id                                  ...                                    \n",
       "1          Lvl    AllPub    Inside  ...    NA          NA     0.0      2   \n",
       "2          Lvl    AllPub       FR2  ...    NA          NA     0.0      5   \n",
       "3          Lvl    AllPub    Inside  ...    NA          NA     0.0      9   \n",
       "4          Lvl    AllPub    Corner  ...    NA          NA     0.0      2   \n",
       "5          Lvl    AllPub       FR2  ...    NA          NA     0.0     12   \n",
       "\n",
       "   YrSold SaleType  SaleCondition  HouseAge  RemodAddAge  GarageAge  \n",
       "Id                                                                   \n",
       "1    2008       WD         Normal         5            5          5  \n",
       "2    2007       WD         Normal        31           31         31  \n",
       "3    2008       WD         Normal         7            6          7  \n",
       "4    2006       WD        Abnorml        91           36          8  \n",
       "5    2008       WD         Normal         8            8          8  \n",
       "\n",
       "[5 rows x 82 columns]"
      ],
      "text/html": "<div>\n<style scoped>\n    .dataframe tbody tr th:only-of-type {\n        vertical-align: middle;\n    }\n\n    .dataframe tbody tr th {\n        vertical-align: top;\n    }\n\n    .dataframe thead th {\n        text-align: right;\n    }\n</style>\n<table border=\"1\" class=\"dataframe\">\n  <thead>\n    <tr style=\"text-align: right;\">\n      <th></th>\n      <th>MSSubClass</th>\n      <th>MSZoning</th>\n      <th>LotFrontage</th>\n      <th>LotArea</th>\n      <th>Street</th>\n      <th>Alley</th>\n      <th>LotShape</th>\n      <th>LandContour</th>\n      <th>Utilities</th>\n      <th>LotConfig</th>\n      <th>...</th>\n      <th>Fence</th>\n      <th>MiscFeature</th>\n      <th>MiscVal</th>\n      <th>MoSold</th>\n      <th>YrSold</th>\n      <th>SaleType</th>\n      <th>SaleCondition</th>\n      <th>HouseAge</th>\n      <th>RemodAddAge</th>\n      <th>GarageAge</th>\n    </tr>\n    <tr>\n      <th>Id</th>\n      <th></th>\n      <th></th>\n      <th></th>\n      <th></th>\n      <th></th>\n      <th></th>\n      <th></th>\n      <th></th>\n      <th></th>\n      <th></th>\n      <th></th>\n      <th></th>\n      <th></th>\n      <th></th>\n      <th></th>\n      <th></th>\n      <th></th>\n      <th></th>\n      <th></th>\n      <th></th>\n      <th></th>\n    </tr>\n  </thead>\n  <tbody>\n    <tr>\n      <th>1</th>\n      <td>60</td>\n      <td>RL</td>\n      <td>5.831328</td>\n      <td>19.212182</td>\n      <td>Pave</td>\n      <td>NA</td>\n      <td>Reg</td>\n      <td>Lvl</td>\n      <td>AllPub</td>\n      <td>Inside</td>\n      <td>...</td>\n      <td>NA</td>\n      <td>NA</td>\n      <td>0.0</td>\n      <td>2</td>\n      <td>2008</td>\n      <td>WD</td>\n      <td>Normal</td>\n      <td>5</td>\n      <td>5</td>\n      <td>5</td>\n    </tr>\n    <tr>\n      <th>2</th>\n      <td>20</td>\n      <td>RL</td>\n      <td>6.221214</td>\n      <td>19.712205</td>\n      <td>Pave</td>\n      <td>NA</td>\n      <td>Reg</td>\n      <td>Lvl</td>\n      <td>AllPub</td>\n      <td>FR2</td>\n      <td>...</td>\n      <td>NA</td>\n      <td>NA</td>\n      <td>0.0</td>\n      <td>5</td>\n      <td>2007</td>\n      <td>WD</td>\n      <td>Normal</td>\n      <td>31</td>\n      <td>31</td>\n      <td>31</td>\n    </tr>\n    <tr>\n      <th>3</th>\n      <td>60</td>\n      <td>RL</td>\n      <td>5.914940</td>\n      <td>20.347241</td>\n      <td>Pave</td>\n      <td>NA</td>\n      <td>IR1</td>\n      <td>Lvl</td>\n      <td>AllPub</td>\n      <td>Inside</td>\n      <td>...</td>\n      <td>NA</td>\n      <td>NA</td>\n      <td>0.0</td>\n      <td>9</td>\n      <td>2008</td>\n      <td>WD</td>\n      <td>Normal</td>\n      <td>7</td>\n      <td>6</td>\n      <td>7</td>\n    </tr>\n    <tr>\n      <th>4</th>\n      <td>70</td>\n      <td>RL</td>\n      <td>5.684507</td>\n      <td>19.691553</td>\n      <td>Pave</td>\n      <td>NA</td>\n      <td>IR1</td>\n      <td>Lvl</td>\n      <td>AllPub</td>\n      <td>Corner</td>\n      <td>...</td>\n      <td>NA</td>\n      <td>NA</td>\n      <td>0.0</td>\n      <td>2</td>\n      <td>2006</td>\n      <td>WD</td>\n      <td>Abnorml</td>\n      <td>91</td>\n      <td>36</td>\n      <td>8</td>\n    </tr>\n    <tr>\n      <th>5</th>\n      <td>60</td>\n      <td>RL</td>\n      <td>6.314735</td>\n      <td>21.325160</td>\n      <td>Pave</td>\n      <td>NA</td>\n      <td>IR1</td>\n      <td>Lvl</td>\n      <td>AllPub</td>\n      <td>FR2</td>\n      <td>...</td>\n      <td>NA</td>\n      <td>NA</td>\n      <td>0.0</td>\n      <td>12</td>\n      <td>2008</td>\n      <td>WD</td>\n      <td>Normal</td>\n      <td>8</td>\n      <td>8</td>\n      <td>8</td>\n    </tr>\n  </tbody>\n</table>\n<p>5 rows × 82 columns</p>\n</div>"
     },
     "metadata": {},
     "execution_count": 5
    }
   ],
   "source": [
    "train_sale_price = train['SalePrice']\n",
    "train_real_sale_price = train['RealSalePrice']\n",
    "train_sale_price_log1p= train['SalePriceLog1p']\n",
    "train_real_sale_price_log1p= train['RealSalePriceLog1p']\n",
    "train = train.drop(['SalePrice','SalePriceLog1p','RealSalePrice','RealSalePriceLog1p'],axis=1)\n",
    "train_test = pd.concat([train,test])\n",
    "train_test.head()"
   ]
  },
  {
   "cell_type": "code",
   "execution_count": 6,
   "metadata": {},
   "outputs": [
    {
     "output_type": "stream",
     "name": "stdout",
     "text": [
      "Total columns in data set 82\nTotal columns count: 82\n"
     ]
    }
   ],
   "source": [
    "categorical_columns = ['MSSubClass','MSZoning','Street','Alley','LotShape','LandContour',\n",
    "                        'LotConfig','LandSlope','Neighborhood','Condition1','Condition2',\n",
    "                        'BldgType','HouseStyle','RoofStyle','RoofMatl','Exterior1st','Exterior2nd',\n",
    "                        'MasVnrType','Foundation','Heating','CentralAir','Electrical','Functional',\n",
    "                        'GarageType','GarageFinish','PavedDrive','Fence','MiscFeature','SaleType',\n",
    "                        'SaleCondition']\n",
    "\n",
    "label_columns = ['Utilities','OverallQual','OverallCond','ExterQual','ExterCond','BsmtQual','BsmtExposure',\n",
    "                'BsmtCond','BsmtFinType1','BsmtFinType2','HeatingQC','GarageQual','KitchenQual','FireplaceQu',\n",
    "                'GarageCond','PoolQC']\n",
    "\n",
    "numerical_columns = ['LotArea','YearBuilt','YearRemodAdd','MasVnrArea','BsmtFinSF1','BsmtFinSF2','BsmtUnfSF',\n",
    "                        'TotalBsmtSF','1stFlrSF','2ndFlrSF','LowQualFinSF','GrLivArea','BsmtFullBath','BsmtHalfBath',\n",
    "                        'FullBath','HalfBath','BedroomAbvGr','KitchenAbvGr','TotRmsAbvGrd','Fireplaces','GarageYrBlt',\n",
    "                        'GarageCars','GarageArea','WoodDeckSF','OpenPorchSF','EnclosedPorch','3SsnPorch','ScreenPorch',\n",
    "                        'PoolArea','MiscVal','MoSold','YrSold','LotFrontage']\n",
    "                        \n",
    "numerical_columns.extend(['HouseAge','RemodAddAge','GarageAge'])\n",
    "\n",
    "print(f'Total columns in data set {train_test.shape[1]}')\n",
    "print(f'Total columns count: {len(categorical_columns)+len(label_columns)+len(numerical_columns)}')"
   ]
  },
  {
   "cell_type": "code",
   "execution_count": 7,
   "metadata": {},
   "outputs": [
    {
     "output_type": "execute_result",
     "data": {
      "text/plain": [
       "    MSSubClass_30  MSSubClass_40  MSSubClass_45  MSSubClass_50  MSSubClass_60  \\\n",
       "Id                                                                              \n",
       "1             0.0            0.0            0.0            0.0            1.0   \n",
       "2             0.0            0.0            0.0            0.0            0.0   \n",
       "3             0.0            0.0            0.0            0.0            1.0   \n",
       "4             0.0            0.0            0.0            0.0            0.0   \n",
       "5             0.0            0.0            0.0            0.0            1.0   \n",
       "\n",
       "    MSSubClass_70  MSSubClass_75  MSSubClass_80  MSSubClass_85  MSSubClass_90  \\\n",
       "Id                                                                              \n",
       "1             0.0            0.0            0.0            0.0            0.0   \n",
       "2             0.0            0.0            0.0            0.0            0.0   \n",
       "3             0.0            0.0            0.0            0.0            0.0   \n",
       "4             1.0            0.0            0.0            0.0            0.0   \n",
       "5             0.0            0.0            0.0            0.0            0.0   \n",
       "\n",
       "    ...  SaleType_ConLI  SaleType_ConLw  SaleType_New  SaleType_Oth  \\\n",
       "Id  ...                                                               \n",
       "1   ...             0.0             0.0           0.0           0.0   \n",
       "2   ...             0.0             0.0           0.0           0.0   \n",
       "3   ...             0.0             0.0           0.0           0.0   \n",
       "4   ...             0.0             0.0           0.0           0.0   \n",
       "5   ...             0.0             0.0           0.0           0.0   \n",
       "\n",
       "    SaleType_WD  SaleCondition_AdjLand  SaleCondition_Alloca  \\\n",
       "Id                                                             \n",
       "1           1.0                    0.0                   0.0   \n",
       "2           1.0                    0.0                   0.0   \n",
       "3           1.0                    0.0                   0.0   \n",
       "4           1.0                    0.0                   0.0   \n",
       "5           1.0                    0.0                   0.0   \n",
       "\n",
       "    SaleCondition_Family  SaleCondition_Normal  SaleCondition_Partial  \n",
       "Id                                                                     \n",
       "1                    0.0                   1.0                    0.0  \n",
       "2                    0.0                   1.0                    0.0  \n",
       "3                    0.0                   1.0                    0.0  \n",
       "4                    0.0                   0.0                    0.0  \n",
       "5                    0.0                   1.0                    0.0  \n",
       "\n",
       "[5 rows x 183 columns]"
      ],
      "text/html": "<div>\n<style scoped>\n    .dataframe tbody tr th:only-of-type {\n        vertical-align: middle;\n    }\n\n    .dataframe tbody tr th {\n        vertical-align: top;\n    }\n\n    .dataframe thead th {\n        text-align: right;\n    }\n</style>\n<table border=\"1\" class=\"dataframe\">\n  <thead>\n    <tr style=\"text-align: right;\">\n      <th></th>\n      <th>MSSubClass_30</th>\n      <th>MSSubClass_40</th>\n      <th>MSSubClass_45</th>\n      <th>MSSubClass_50</th>\n      <th>MSSubClass_60</th>\n      <th>MSSubClass_70</th>\n      <th>MSSubClass_75</th>\n      <th>MSSubClass_80</th>\n      <th>MSSubClass_85</th>\n      <th>MSSubClass_90</th>\n      <th>...</th>\n      <th>SaleType_ConLI</th>\n      <th>SaleType_ConLw</th>\n      <th>SaleType_New</th>\n      <th>SaleType_Oth</th>\n      <th>SaleType_WD</th>\n      <th>SaleCondition_AdjLand</th>\n      <th>SaleCondition_Alloca</th>\n      <th>SaleCondition_Family</th>\n      <th>SaleCondition_Normal</th>\n      <th>SaleCondition_Partial</th>\n    </tr>\n    <tr>\n      <th>Id</th>\n      <th></th>\n      <th></th>\n      <th></th>\n      <th></th>\n      <th></th>\n      <th></th>\n      <th></th>\n      <th></th>\n      <th></th>\n      <th></th>\n      <th></th>\n      <th></th>\n      <th></th>\n      <th></th>\n      <th></th>\n      <th></th>\n      <th></th>\n      <th></th>\n      <th></th>\n      <th></th>\n      <th></th>\n    </tr>\n  </thead>\n  <tbody>\n    <tr>\n      <th>1</th>\n      <td>0.0</td>\n      <td>0.0</td>\n      <td>0.0</td>\n      <td>0.0</td>\n      <td>1.0</td>\n      <td>0.0</td>\n      <td>0.0</td>\n      <td>0.0</td>\n      <td>0.0</td>\n      <td>0.0</td>\n      <td>...</td>\n      <td>0.0</td>\n      <td>0.0</td>\n      <td>0.0</td>\n      <td>0.0</td>\n      <td>1.0</td>\n      <td>0.0</td>\n      <td>0.0</td>\n      <td>0.0</td>\n      <td>1.0</td>\n      <td>0.0</td>\n    </tr>\n    <tr>\n      <th>2</th>\n      <td>0.0</td>\n      <td>0.0</td>\n      <td>0.0</td>\n      <td>0.0</td>\n      <td>0.0</td>\n      <td>0.0</td>\n      <td>0.0</td>\n      <td>0.0</td>\n      <td>0.0</td>\n      <td>0.0</td>\n      <td>...</td>\n      <td>0.0</td>\n      <td>0.0</td>\n      <td>0.0</td>\n      <td>0.0</td>\n      <td>1.0</td>\n      <td>0.0</td>\n      <td>0.0</td>\n      <td>0.0</td>\n      <td>1.0</td>\n      <td>0.0</td>\n    </tr>\n    <tr>\n      <th>3</th>\n      <td>0.0</td>\n      <td>0.0</td>\n      <td>0.0</td>\n      <td>0.0</td>\n      <td>1.0</td>\n      <td>0.0</td>\n      <td>0.0</td>\n      <td>0.0</td>\n      <td>0.0</td>\n      <td>0.0</td>\n      <td>...</td>\n      <td>0.0</td>\n      <td>0.0</td>\n      <td>0.0</td>\n      <td>0.0</td>\n      <td>1.0</td>\n      <td>0.0</td>\n      <td>0.0</td>\n      <td>0.0</td>\n      <td>1.0</td>\n      <td>0.0</td>\n    </tr>\n    <tr>\n      <th>4</th>\n      <td>0.0</td>\n      <td>0.0</td>\n      <td>0.0</td>\n      <td>0.0</td>\n      <td>0.0</td>\n      <td>1.0</td>\n      <td>0.0</td>\n      <td>0.0</td>\n      <td>0.0</td>\n      <td>0.0</td>\n      <td>...</td>\n      <td>0.0</td>\n      <td>0.0</td>\n      <td>0.0</td>\n      <td>0.0</td>\n      <td>1.0</td>\n      <td>0.0</td>\n      <td>0.0</td>\n      <td>0.0</td>\n      <td>0.0</td>\n      <td>0.0</td>\n    </tr>\n    <tr>\n      <th>5</th>\n      <td>0.0</td>\n      <td>0.0</td>\n      <td>0.0</td>\n      <td>0.0</td>\n      <td>1.0</td>\n      <td>0.0</td>\n      <td>0.0</td>\n      <td>0.0</td>\n      <td>0.0</td>\n      <td>0.0</td>\n      <td>...</td>\n      <td>0.0</td>\n      <td>0.0</td>\n      <td>0.0</td>\n      <td>0.0</td>\n      <td>1.0</td>\n      <td>0.0</td>\n      <td>0.0</td>\n      <td>0.0</td>\n      <td>1.0</td>\n      <td>0.0</td>\n    </tr>\n  </tbody>\n</table>\n<p>5 rows × 183 columns</p>\n</div>"
     },
     "metadata": {},
     "execution_count": 7
    }
   ],
   "source": [
    "#Categorical columns encoder\n",
    "#handle_unknown='ignore'\n",
    "OH_encoder = OneHotEncoder(drop='first', sparse=False)\n",
    "OH_cols = pd.DataFrame(OH_encoder.fit_transform(train_test[categorical_columns]),columns = OH_encoder.get_feature_names(categorical_columns))\n",
    "OH_cols.index = train_test.index\n",
    "OH_cols.head(5)"
   ]
  },
  {
   "cell_type": "code",
   "execution_count": 8,
   "metadata": {},
   "outputs": [
    {
     "output_type": "execute_result",
     "data": {
      "text/plain": [
       "    Utilities  OverallQual  OverallCond  ExterQual  ExterCond  BsmtQual  \\\n",
       "Id                                                                        \n",
       "1         1.0     0.666667        0.500   0.666667        0.5       0.8   \n",
       "2         1.0     0.555556        0.875   0.333333        0.5       0.8   \n",
       "3         1.0     0.666667        0.500   0.666667        0.5       0.8   \n",
       "4         1.0     0.666667        0.500   0.333333        0.5       0.6   \n",
       "5         1.0     0.777778        0.500   0.666667        0.5       0.8   \n",
       "\n",
       "    BsmtExposure  BsmtCond  BsmtFinType1  BsmtFinType2  HeatingQC  GarageQual  \\\n",
       "Id                                                                              \n",
       "1           0.25      0.75      1.000000      0.166667       1.00         0.6   \n",
       "2           1.00      0.75      0.833333      0.166667       1.00         0.6   \n",
       "3           0.50      0.75      1.000000      0.166667       1.00         0.6   \n",
       "4           0.25      1.00      0.833333      0.166667       0.75         0.6   \n",
       "5           0.75      0.75      1.000000      0.166667       1.00         0.6   \n",
       "\n",
       "    KitchenQual  FireplaceQu  GarageCond  PoolQC  \n",
       "Id                                                \n",
       "1      0.666667          0.0         0.6     0.0  \n",
       "2      0.333333          0.6         0.6     0.0  \n",
       "3      0.666667          0.6         0.6     0.0  \n",
       "4      0.666667          0.8         0.6     0.0  \n",
       "5      0.666667          0.6         0.6     0.0  "
      ],
      "text/html": "<div>\n<style scoped>\n    .dataframe tbody tr th:only-of-type {\n        vertical-align: middle;\n    }\n\n    .dataframe tbody tr th {\n        vertical-align: top;\n    }\n\n    .dataframe thead th {\n        text-align: right;\n    }\n</style>\n<table border=\"1\" class=\"dataframe\">\n  <thead>\n    <tr style=\"text-align: right;\">\n      <th></th>\n      <th>Utilities</th>\n      <th>OverallQual</th>\n      <th>OverallCond</th>\n      <th>ExterQual</th>\n      <th>ExterCond</th>\n      <th>BsmtQual</th>\n      <th>BsmtExposure</th>\n      <th>BsmtCond</th>\n      <th>BsmtFinType1</th>\n      <th>BsmtFinType2</th>\n      <th>HeatingQC</th>\n      <th>GarageQual</th>\n      <th>KitchenQual</th>\n      <th>FireplaceQu</th>\n      <th>GarageCond</th>\n      <th>PoolQC</th>\n    </tr>\n    <tr>\n      <th>Id</th>\n      <th></th>\n      <th></th>\n      <th></th>\n      <th></th>\n      <th></th>\n      <th></th>\n      <th></th>\n      <th></th>\n      <th></th>\n      <th></th>\n      <th></th>\n      <th></th>\n      <th></th>\n      <th></th>\n      <th></th>\n      <th></th>\n    </tr>\n  </thead>\n  <tbody>\n    <tr>\n      <th>1</th>\n      <td>1.0</td>\n      <td>0.666667</td>\n      <td>0.500</td>\n      <td>0.666667</td>\n      <td>0.5</td>\n      <td>0.8</td>\n      <td>0.25</td>\n      <td>0.75</td>\n      <td>1.000000</td>\n      <td>0.166667</td>\n      <td>1.00</td>\n      <td>0.6</td>\n      <td>0.666667</td>\n      <td>0.0</td>\n      <td>0.6</td>\n      <td>0.0</td>\n    </tr>\n    <tr>\n      <th>2</th>\n      <td>1.0</td>\n      <td>0.555556</td>\n      <td>0.875</td>\n      <td>0.333333</td>\n      <td>0.5</td>\n      <td>0.8</td>\n      <td>1.00</td>\n      <td>0.75</td>\n      <td>0.833333</td>\n      <td>0.166667</td>\n      <td>1.00</td>\n      <td>0.6</td>\n      <td>0.333333</td>\n      <td>0.6</td>\n      <td>0.6</td>\n      <td>0.0</td>\n    </tr>\n    <tr>\n      <th>3</th>\n      <td>1.0</td>\n      <td>0.666667</td>\n      <td>0.500</td>\n      <td>0.666667</td>\n      <td>0.5</td>\n      <td>0.8</td>\n      <td>0.50</td>\n      <td>0.75</td>\n      <td>1.000000</td>\n      <td>0.166667</td>\n      <td>1.00</td>\n      <td>0.6</td>\n      <td>0.666667</td>\n      <td>0.6</td>\n      <td>0.6</td>\n      <td>0.0</td>\n    </tr>\n    <tr>\n      <th>4</th>\n      <td>1.0</td>\n      <td>0.666667</td>\n      <td>0.500</td>\n      <td>0.333333</td>\n      <td>0.5</td>\n      <td>0.6</td>\n      <td>0.25</td>\n      <td>1.00</td>\n      <td>0.833333</td>\n      <td>0.166667</td>\n      <td>0.75</td>\n      <td>0.6</td>\n      <td>0.666667</td>\n      <td>0.8</td>\n      <td>0.6</td>\n      <td>0.0</td>\n    </tr>\n    <tr>\n      <th>5</th>\n      <td>1.0</td>\n      <td>0.777778</td>\n      <td>0.500</td>\n      <td>0.666667</td>\n      <td>0.5</td>\n      <td>0.8</td>\n      <td>0.75</td>\n      <td>0.75</td>\n      <td>1.000000</td>\n      <td>0.166667</td>\n      <td>1.00</td>\n      <td>0.6</td>\n      <td>0.666667</td>\n      <td>0.6</td>\n      <td>0.6</td>\n      <td>0.0</td>\n    </tr>\n  </tbody>\n</table>\n</div>"
     },
     "metadata": {},
     "execution_count": 8
    }
   ],
   "source": [
    "#Encode label_columns\n",
    "label_columns = ['Utilities','OverallQual','OverallCond','ExterQual','ExterCond','BsmtQual','BsmtExposure',\n",
    "                'BsmtCond','BsmtFinType1','BsmtFinType2','HeatingQC','GarageQual','KitchenQual','FireplaceQu',\n",
    "                'GarageCond','PoolQC']\n",
    "LB_cols = pd.DataFrame(train_test[label_columns])\n",
    "LB_cols = LB_cols.replace(\n",
    "    {'Utilities':{'AllPub':4,'NoSewr':3,'NoSeWa':2,'ELO':1},\n",
    "    'ExterQual':{'Ex':5,'Gd':4,'TA':3,'Fa':2,'Po':1},\n",
    "    'ExterCond':{'Ex':5,'Gd':4,'TA':3,'Fa':2,'Po':1},\n",
    "    'BsmtQual':{'Ex':5,'Gd':4,'TA':3,'Fa':2,'Po':1,'NA':0},\n",
    "    'BsmtExposure':{'Gd':4,'Av':3,'Mn':2,'No':1,'NA':0},\n",
    "    'BsmtCond':{'Ex':5,'Gd':4,'TA':3,'Fa':2,'Po':1,'NA':0},\n",
    "    'BsmtFinType1':{'GLQ':6,'ALQ':5,'BLQ':4,'Rec':3,'LwQ':2,'Unf':1,'NA':0},\n",
    "    'BsmtFinType2':{'GLQ':6,'ALQ':5,'BLQ':4,'Rec':3,'LwQ':2,'Unf':1,'NA':0},\n",
    "    'HeatingQC':{'Ex':5,'Gd':4,'TA':3,'Fa':2,'Po':1},\n",
    "    'GarageQual':{'Ex':5,'Gd':4,'TA':3,'Fa':2,'Po':1,'NA':0},\n",
    "    'KitchenQual':{'Ex':5,'Gd':4,'TA':3,'Fa':2,'Po':1},\n",
    "    'FireplaceQu':{'Ex':5,'Gd':4,'TA':3,'Fa':2,'Po':1,'NA':0},\n",
    "    'GarageCond':{'Ex':5,'Gd':4,'TA':3,'Fa':2,'Po':1,'NA':0},\n",
    "    'PoolQC':{'Ex':4,'Gd':3,'TA':2,'Fa':1,'NA':0}}\n",
    ")\n",
    "MinMax_Scaler = MinMaxScaler()\n",
    "LB_cols = pd.DataFrame(MinMax_Scaler.fit_transform(LB_cols),columns=label_columns)\n",
    "LB_cols.index = train_test.index\n",
    "LB_cols.head()"
   ]
  },
  {
   "cell_type": "code",
   "execution_count": 9,
   "metadata": {},
   "outputs": [
    {
     "output_type": "execute_result",
     "data": {
      "text/plain": [
       "     LotArea YearBuilt YearRemodAdd MasVnrArea BsmtFinSF1 BsmtFinSF2  \\\n",
       "Id                                                                     \n",
       "1   0.281320  0.949275     0.883333   0.597109   0.631368        0.0   \n",
       "2   0.303531  0.753623     0.433333   0.000000   0.681814        0.0   \n",
       "3   0.331740  0.934783     0.866667   0.566540   0.576542        0.0   \n",
       "4   0.302614  0.311594     0.333333   0.000000   0.467677        0.0   \n",
       "5   0.375179  0.927536     0.833333   0.695850   0.620109        0.0   \n",
       "\n",
       "   BsmtUnfSF TotalBsmtSF  1stFlrSF  2ndFlrSF  ... 3SsnPorch ScreenPorch  \\\n",
       "Id                                            ...                         \n",
       "1   0.509970    0.650174  0.300044  0.837086  ...       0.0         0.0   \n",
       "2   0.606369    0.711321  0.436792  0.000000  ...       0.0         0.0   \n",
       "3   0.675826    0.661263  0.324842  0.839838  ...       0.0         0.0   \n",
       "4   0.713406    0.631350  0.339969  0.813298  ...       0.0         0.0   \n",
       "5   0.696543    0.695658  0.401762  0.879003  ...       0.0         0.0   \n",
       "\n",
       "   PoolArea MiscVal    MoSold YrSold LotFrontage  HouseAge RemodAddAge  \\\n",
       "Id                                                                       \n",
       "1       0.0     0.0  0.090909   0.50    0.009685  0.043796    0.112903   \n",
       "2       0.0     0.0  0.363636   0.25    0.011673  0.233577    0.532258   \n",
       "3       0.0     0.0  0.727273   0.50    0.010111  0.058394    0.129032   \n",
       "4       0.0     0.0  0.090909   0.00    0.008936  0.671533    0.612903   \n",
       "5       0.0     0.0  1.000000   0.50    0.012150  0.065693    0.161290   \n",
       "\n",
       "   GarageAge  \n",
       "Id            \n",
       "1   0.652866  \n",
       "2   0.735669  \n",
       "3   0.659236  \n",
       "4   0.662420  \n",
       "5   0.662420  \n",
       "\n",
       "[5 rows x 36 columns]"
      ],
      "text/html": "<div>\n<style scoped>\n    .dataframe tbody tr th:only-of-type {\n        vertical-align: middle;\n    }\n\n    .dataframe tbody tr th {\n        vertical-align: top;\n    }\n\n    .dataframe thead tr th {\n        text-align: left;\n    }\n\n    .dataframe thead tr:last-of-type th {\n        text-align: right;\n    }\n</style>\n<table border=\"1\" class=\"dataframe\">\n  <thead>\n    <tr>\n      <th></th>\n      <th>LotArea</th>\n      <th>YearBuilt</th>\n      <th>YearRemodAdd</th>\n      <th>MasVnrArea</th>\n      <th>BsmtFinSF1</th>\n      <th>BsmtFinSF2</th>\n      <th>BsmtUnfSF</th>\n      <th>TotalBsmtSF</th>\n      <th>1stFlrSF</th>\n      <th>2ndFlrSF</th>\n      <th>...</th>\n      <th>3SsnPorch</th>\n      <th>ScreenPorch</th>\n      <th>PoolArea</th>\n      <th>MiscVal</th>\n      <th>MoSold</th>\n      <th>YrSold</th>\n      <th>LotFrontage</th>\n      <th>HouseAge</th>\n      <th>RemodAddAge</th>\n      <th>GarageAge</th>\n    </tr>\n    <tr>\n      <th>Id</th>\n      <th></th>\n      <th></th>\n      <th></th>\n      <th></th>\n      <th></th>\n      <th></th>\n      <th></th>\n      <th></th>\n      <th></th>\n      <th></th>\n      <th></th>\n      <th></th>\n      <th></th>\n      <th></th>\n      <th></th>\n      <th></th>\n      <th></th>\n      <th></th>\n      <th></th>\n      <th></th>\n      <th></th>\n    </tr>\n  </thead>\n  <tbody>\n    <tr>\n      <th>1</th>\n      <td>0.281320</td>\n      <td>0.949275</td>\n      <td>0.883333</td>\n      <td>0.597109</td>\n      <td>0.631368</td>\n      <td>0.0</td>\n      <td>0.509970</td>\n      <td>0.650174</td>\n      <td>0.300044</td>\n      <td>0.837086</td>\n      <td>...</td>\n      <td>0.0</td>\n      <td>0.0</td>\n      <td>0.0</td>\n      <td>0.0</td>\n      <td>0.090909</td>\n      <td>0.50</td>\n      <td>0.009685</td>\n      <td>0.043796</td>\n      <td>0.112903</td>\n      <td>0.652866</td>\n    </tr>\n    <tr>\n      <th>2</th>\n      <td>0.303531</td>\n      <td>0.753623</td>\n      <td>0.433333</td>\n      <td>0.000000</td>\n      <td>0.681814</td>\n      <td>0.0</td>\n      <td>0.606369</td>\n      <td>0.711321</td>\n      <td>0.436792</td>\n      <td>0.000000</td>\n      <td>...</td>\n      <td>0.0</td>\n      <td>0.0</td>\n      <td>0.0</td>\n      <td>0.0</td>\n      <td>0.363636</td>\n      <td>0.25</td>\n      <td>0.011673</td>\n      <td>0.233577</td>\n      <td>0.532258</td>\n      <td>0.735669</td>\n    </tr>\n    <tr>\n      <th>3</th>\n      <td>0.331740</td>\n      <td>0.934783</td>\n      <td>0.866667</td>\n      <td>0.566540</td>\n      <td>0.576542</td>\n      <td>0.0</td>\n      <td>0.675826</td>\n      <td>0.661263</td>\n      <td>0.324842</td>\n      <td>0.839838</td>\n      <td>...</td>\n      <td>0.0</td>\n      <td>0.0</td>\n      <td>0.0</td>\n      <td>0.0</td>\n      <td>0.727273</td>\n      <td>0.50</td>\n      <td>0.010111</td>\n      <td>0.058394</td>\n      <td>0.129032</td>\n      <td>0.659236</td>\n    </tr>\n    <tr>\n      <th>4</th>\n      <td>0.302614</td>\n      <td>0.311594</td>\n      <td>0.333333</td>\n      <td>0.000000</td>\n      <td>0.467677</td>\n      <td>0.0</td>\n      <td>0.713406</td>\n      <td>0.631350</td>\n      <td>0.339969</td>\n      <td>0.813298</td>\n      <td>...</td>\n      <td>0.0</td>\n      <td>0.0</td>\n      <td>0.0</td>\n      <td>0.0</td>\n      <td>0.090909</td>\n      <td>0.00</td>\n      <td>0.008936</td>\n      <td>0.671533</td>\n      <td>0.612903</td>\n      <td>0.662420</td>\n    </tr>\n    <tr>\n      <th>5</th>\n      <td>0.375179</td>\n      <td>0.927536</td>\n      <td>0.833333</td>\n      <td>0.695850</td>\n      <td>0.620109</td>\n      <td>0.0</td>\n      <td>0.696543</td>\n      <td>0.695658</td>\n      <td>0.401762</td>\n      <td>0.879003</td>\n      <td>...</td>\n      <td>0.0</td>\n      <td>0.0</td>\n      <td>0.0</td>\n      <td>0.0</td>\n      <td>1.000000</td>\n      <td>0.50</td>\n      <td>0.012150</td>\n      <td>0.065693</td>\n      <td>0.161290</td>\n      <td>0.662420</td>\n    </tr>\n  </tbody>\n</table>\n<p>5 rows × 36 columns</p>\n</div>"
     },
     "metadata": {},
     "execution_count": 9
    }
   ],
   "source": [
    "#Numerical columns scaler\n",
    "MinMax_Scaler = MinMaxScaler()\n",
    "MM_cols = pd.DataFrame(MinMax_Scaler.fit_transform(train_test[numerical_columns]),columns = [numerical_columns])\n",
    "MM_cols.index = train_test.index\n",
    "MM_cols.head(5)"
   ]
  },
  {
   "cell_type": "code",
   "execution_count": 10,
   "metadata": {},
   "outputs": [
    {
     "output_type": "execute_result",
     "data": {
      "text/plain": [
       "    MSSubClass_30  MSSubClass_40  MSSubClass_45  MSSubClass_50  MSSubClass_60  \\\n",
       "Id                                                                              \n",
       "1             0.0            0.0            0.0            0.0            1.0   \n",
       "2             0.0            0.0            0.0            0.0            0.0   \n",
       "3             0.0            0.0            0.0            0.0            1.0   \n",
       "4             0.0            0.0            0.0            0.0            0.0   \n",
       "5             0.0            0.0            0.0            0.0            1.0   \n",
       "\n",
       "    MSSubClass_70  MSSubClass_75  MSSubClass_80  MSSubClass_85  MSSubClass_90  \\\n",
       "Id                                                                              \n",
       "1             0.0            0.0            0.0            0.0            0.0   \n",
       "2             0.0            0.0            0.0            0.0            0.0   \n",
       "3             0.0            0.0            0.0            0.0            0.0   \n",
       "4             1.0            0.0            0.0            0.0            0.0   \n",
       "5             0.0            0.0            0.0            0.0            0.0   \n",
       "\n",
       "    ...  (3SsnPorch,)  (ScreenPorch,)  (PoolArea,)  (MiscVal,)  (MoSold,)  \\\n",
       "Id  ...                                                                     \n",
       "1   ...           0.0             0.0          0.0         0.0   0.090909   \n",
       "2   ...           0.0             0.0          0.0         0.0   0.363636   \n",
       "3   ...           0.0             0.0          0.0         0.0   0.727273   \n",
       "4   ...           0.0             0.0          0.0         0.0   0.090909   \n",
       "5   ...           0.0             0.0          0.0         0.0   1.000000   \n",
       "\n",
       "    (YrSold,)  (LotFrontage,)  (HouseAge,)  (RemodAddAge,)  (GarageAge,)  \n",
       "Id                                                                        \n",
       "1        0.50        0.009685     0.043796        0.112903      0.652866  \n",
       "2        0.25        0.011673     0.233577        0.532258      0.735669  \n",
       "3        0.50        0.010111     0.058394        0.129032      0.659236  \n",
       "4        0.00        0.008936     0.671533        0.612903      0.662420  \n",
       "5        0.50        0.012150     0.065693        0.161290      0.662420  \n",
       "\n",
       "[5 rows x 235 columns]"
      ],
      "text/html": "<div>\n<style scoped>\n    .dataframe tbody tr th:only-of-type {\n        vertical-align: middle;\n    }\n\n    .dataframe tbody tr th {\n        vertical-align: top;\n    }\n\n    .dataframe thead th {\n        text-align: right;\n    }\n</style>\n<table border=\"1\" class=\"dataframe\">\n  <thead>\n    <tr style=\"text-align: right;\">\n      <th></th>\n      <th>MSSubClass_30</th>\n      <th>MSSubClass_40</th>\n      <th>MSSubClass_45</th>\n      <th>MSSubClass_50</th>\n      <th>MSSubClass_60</th>\n      <th>MSSubClass_70</th>\n      <th>MSSubClass_75</th>\n      <th>MSSubClass_80</th>\n      <th>MSSubClass_85</th>\n      <th>MSSubClass_90</th>\n      <th>...</th>\n      <th>(3SsnPorch,)</th>\n      <th>(ScreenPorch,)</th>\n      <th>(PoolArea,)</th>\n      <th>(MiscVal,)</th>\n      <th>(MoSold,)</th>\n      <th>(YrSold,)</th>\n      <th>(LotFrontage,)</th>\n      <th>(HouseAge,)</th>\n      <th>(RemodAddAge,)</th>\n      <th>(GarageAge,)</th>\n    </tr>\n    <tr>\n      <th>Id</th>\n      <th></th>\n      <th></th>\n      <th></th>\n      <th></th>\n      <th></th>\n      <th></th>\n      <th></th>\n      <th></th>\n      <th></th>\n      <th></th>\n      <th></th>\n      <th></th>\n      <th></th>\n      <th></th>\n      <th></th>\n      <th></th>\n      <th></th>\n      <th></th>\n      <th></th>\n      <th></th>\n      <th></th>\n    </tr>\n  </thead>\n  <tbody>\n    <tr>\n      <th>1</th>\n      <td>0.0</td>\n      <td>0.0</td>\n      <td>0.0</td>\n      <td>0.0</td>\n      <td>1.0</td>\n      <td>0.0</td>\n      <td>0.0</td>\n      <td>0.0</td>\n      <td>0.0</td>\n      <td>0.0</td>\n      <td>...</td>\n      <td>0.0</td>\n      <td>0.0</td>\n      <td>0.0</td>\n      <td>0.0</td>\n      <td>0.090909</td>\n      <td>0.50</td>\n      <td>0.009685</td>\n      <td>0.043796</td>\n      <td>0.112903</td>\n      <td>0.652866</td>\n    </tr>\n    <tr>\n      <th>2</th>\n      <td>0.0</td>\n      <td>0.0</td>\n      <td>0.0</td>\n      <td>0.0</td>\n      <td>0.0</td>\n      <td>0.0</td>\n      <td>0.0</td>\n      <td>0.0</td>\n      <td>0.0</td>\n      <td>0.0</td>\n      <td>...</td>\n      <td>0.0</td>\n      <td>0.0</td>\n      <td>0.0</td>\n      <td>0.0</td>\n      <td>0.363636</td>\n      <td>0.25</td>\n      <td>0.011673</td>\n      <td>0.233577</td>\n      <td>0.532258</td>\n      <td>0.735669</td>\n    </tr>\n    <tr>\n      <th>3</th>\n      <td>0.0</td>\n      <td>0.0</td>\n      <td>0.0</td>\n      <td>0.0</td>\n      <td>1.0</td>\n      <td>0.0</td>\n      <td>0.0</td>\n      <td>0.0</td>\n      <td>0.0</td>\n      <td>0.0</td>\n      <td>...</td>\n      <td>0.0</td>\n      <td>0.0</td>\n      <td>0.0</td>\n      <td>0.0</td>\n      <td>0.727273</td>\n      <td>0.50</td>\n      <td>0.010111</td>\n      <td>0.058394</td>\n      <td>0.129032</td>\n      <td>0.659236</td>\n    </tr>\n    <tr>\n      <th>4</th>\n      <td>0.0</td>\n      <td>0.0</td>\n      <td>0.0</td>\n      <td>0.0</td>\n      <td>0.0</td>\n      <td>1.0</td>\n      <td>0.0</td>\n      <td>0.0</td>\n      <td>0.0</td>\n      <td>0.0</td>\n      <td>...</td>\n      <td>0.0</td>\n      <td>0.0</td>\n      <td>0.0</td>\n      <td>0.0</td>\n      <td>0.090909</td>\n      <td>0.00</td>\n      <td>0.008936</td>\n      <td>0.671533</td>\n      <td>0.612903</td>\n      <td>0.662420</td>\n    </tr>\n    <tr>\n      <th>5</th>\n      <td>0.0</td>\n      <td>0.0</td>\n      <td>0.0</td>\n      <td>0.0</td>\n      <td>1.0</td>\n      <td>0.0</td>\n      <td>0.0</td>\n      <td>0.0</td>\n      <td>0.0</td>\n      <td>0.0</td>\n      <td>...</td>\n      <td>0.0</td>\n      <td>0.0</td>\n      <td>0.0</td>\n      <td>0.0</td>\n      <td>1.000000</td>\n      <td>0.50</td>\n      <td>0.012150</td>\n      <td>0.065693</td>\n      <td>0.161290</td>\n      <td>0.662420</td>\n    </tr>\n  </tbody>\n</table>\n<p>5 rows × 235 columns</p>\n</div>"
     },
     "metadata": {},
     "execution_count": 10
    }
   ],
   "source": [
    "train_test_transformed = OH_cols.join(LB_cols)\n",
    "train_test_transformed = train_test_transformed.join(MM_cols)\n",
    "train_test_transformed.head(5)"
   ]
  },
  {
   "cell_type": "code",
   "execution_count": 11,
   "metadata": {},
   "outputs": [],
   "source": [
    "test_data_X = train_test_transformed.loc[test.index.tolist(),:]\n",
    "train_data_X = train_test_transformed.loc[train.index.tolist(),:]"
   ]
  },
  {
   "cell_type": "code",
   "execution_count": 12,
   "metadata": {},
   "outputs": [],
   "source": [
    "#Lasso Regression\n",
    "lasso = make_pipeline(RobustScaler(), Lasso(alpha=0.002631578947368421, max_iter=50, tol=0.01))\n",
    "\n",
    "#Kernel Ridge Regression\n",
    "KRR = KernelRidge(alpha=0.7, coef0=10.0, degree=2, kernel='polynomial')\n",
    "\n",
    "#Elastic Net Regression\n",
    "ENet = make_pipeline(RobustScaler(),ElasticNet(alpha=0.002380952380952381, l1_ratio=0.2, max_iter=150, tol=1e-05))\n",
    "\n",
    "#LightGBM\n",
    "model_lgb = lgb.LGBMRegressor(learning_rate=0.07, n_estimators=810, num_leaves=5,objective='regression')\n",
    "\n",
    "#Random Forest Regression\n",
    "rfr = RandomForestRegressor(bootstrap=False, max_depth=105, max_features='sqrt',\n",
    "                      min_samples_leaf=3, min_samples_split=5,\n",
    "                      n_estimators=400)\n",
    "\n",
    "#XGBoost\n",
    "model_xgb = xgb.XGBRegressor(base_score=0.5, booster='gbtree', colsample_bylevel=1,\n",
    "             colsample_bynode=1, colsample_bytree=1, gamma=0, gpu_id=-1,\n",
    "             importance_type='gain', interaction_constraints='',\n",
    "             learning_rate=0.07, max_delta_step=0, max_depth=3,\n",
    "             min_child_weight=1, monotone_constraints='()',\n",
    "             n_estimators=450, n_jobs=0, num_parallel_tree=1, random_state=0,\n",
    "             reg_alpha=0, reg_lambda=1, scale_pos_weight=1, subsample=1,\n",
    "             tree_method='exact', validate_parameters=1, verbosity=None)"
   ]
  },
  {
   "cell_type": "code",
   "execution_count": 13,
   "metadata": {},
   "outputs": [],
   "source": [
    "#Validation function\n",
    "def rmsle_cv(model,X,y,n_folds=5):\n",
    "    kf = KFold(n_folds, shuffle=True, random_state=42).get_n_splits(X.values)\n",
    "    rmse= np.sqrt(-cross_val_score(model, X.values, y, scoring=\"neg_mean_squared_error\", cv = kf))\n",
    "    return(rmse)"
   ]
  },
  {
   "cell_type": "code",
   "execution_count": 14,
   "metadata": {},
   "outputs": [
    {
     "output_type": "stream",
     "name": "stdout",
     "text": [
      "Lasso mean RMSE:0.13356018621559812\n",
      "Kernel Ridge mean RMSE:0.13288710511027357\n",
      "Elastic Net mean RMSE:0.12665574563924226\n",
      "LightGBM mean RMSE:0.12202948115733434\n",
      "Random Forest mean RMSE:0.14427951211017775\n",
      "XGBoost mean RMSE:0.12302519408843345\n"
     ]
    }
   ],
   "source": [
    "#Lasso Regression\n",
    "print(f'Lasso mean RMSE:{rmsle_cv(lasso,train_data_X,train_sale_price_log1p).mean()}')\n",
    "#Kernel Ridge Regression\n",
    "print(f'Kernel Ridge mean RMSE:{rmsle_cv(KRR,train_data_X,train_sale_price_log1p).mean()}')\n",
    "#Elastic Net Regression\n",
    "print(f'Elastic Net mean RMSE:{rmsle_cv(ENet,train_data_X,train_sale_price_log1p).mean()}')\n",
    "#LightGBM\n",
    "print(f'LightGBM mean RMSE:{rmsle_cv(model_lgb,train_data_X,train_sale_price_log1p).mean()}')\n",
    "#Random Forest Regression\n",
    "print(f'Random Forest mean RMSE:{rmsle_cv(rfr,train_data_X,train_sale_price_log1p).mean()}')\n",
    "#XGBoost Regression\n",
    "print(f'XGBoost mean RMSE:{rmsle_cv(model_xgb,train_data_X,train_sale_price_log1p).mean()}')"
   ]
  },
  {
   "cell_type": "code",
   "execution_count": 15,
   "metadata": {},
   "outputs": [],
   "source": [
    "averaged_models = AverageStackingModels(models = (ENet,model_lgb,model_xgb))"
   ]
  },
  {
   "cell_type": "code",
   "execution_count": 16,
   "metadata": {},
   "outputs": [
    {
     "output_type": "stream",
     "name": "stdout",
     "text": [
      "Averaged models mean RMSE:0.11765578760526867\n"
     ]
    }
   ],
   "source": [
    "#Averaged models score\n",
    "print(f'Averaged models mean RMSE:{rmsle_cv(averaged_models,train_data_X,train_sale_price_log1p).mean()}')"
   ]
  },
  {
   "cell_type": "code",
   "execution_count": 17,
   "metadata": {},
   "outputs": [],
   "source": [
    "averaged_models.fit(train_data_X.values, train_sale_price_log1p)\n",
    "pred_test = averaged_models.predict(test_data_X.values)\n",
    "pred_test = np.expm1(pred_test)\n",
    "\n",
    "sample_submission = pd.read_csv(\"./data/input/sample_submission.csv\")\n",
    "sample_submission['SalePrice'] = pred_test\n",
    "sample_submission.to_csv(f\"./data/output/submission_AveragedModels_{datetime.now().strftime('%d_%m_%Y')}.csv\",index=False)"
   ]
  }
 ]
}